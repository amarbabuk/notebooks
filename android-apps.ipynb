{
 "cells": [
  {
   "cell_type": "code",
   "execution_count": 1,
   "metadata": {},
   "outputs": [],
   "source": [
    "import os\n",
    "import networkx as nx\n",
    "import matplotlib.pyplot as plt\n",
    "import plotly.graph_objects as go\n",
    "import numpy as np\n",
    "import pandas as pd\n",
    "\n",
    "from sklearn.manifold import TSNE\n",
    "from sklearn.model_selection import train_test_split\n",
    "from sklearn.linear_model import LogisticRegressionCV\n",
    "from sklearn.metrics import accuracy_score\n",
    "from sklearn.metrics import classification_report\n",
    "\n",
    "from neo4j import GraphDatabase"
   ]
  },
  {
   "cell_type": "code",
   "execution_count": 5,
   "metadata": {},
   "outputs": [],
   "source": [
    "DB_ULR = \"neo4j://localhost:7687\"\n",
    "DB_USER = \"neo4j\"\n",
    "DB_PASS = \"test1234\"\n",
    "DB_NAME = \"android\"\n",
    "DB_ENCRYPTED = False\n"
   ]
  },
  {
   "source": [
    "driver = GraphDatabase.driver(DB_ULR, auth=(DB_USER, DB_PASS), encrypted=DB_ENCRYPTED)"
   ],
   "cell_type": "code",
   "metadata": {},
   "execution_count": 6,
   "outputs": []
  },
  {
   "cell_type": "code",
   "execution_count": 74,
   "metadata": {},
   "outputs": [],
   "source": [
    "# Schema \n",
    "with driver.session(database = DB_NAME) as session:\n",
    "    result = session.write_transaction( lambda tx: \n",
    "        tx.run(\"CREATE CONSTRAINT IF NOT EXISTS ON (n:App) ASSERT (n.name) IS NODE KEY\").consume()\n",
    "    )\n",
    "    result = session.write_transaction( lambda tx: \n",
    "        tx.run(\"CREATE CONSTRAINT IF NOT EXISTS ON (n:Package) ASSERT (n.name) IS NODE KEY\").consume()\n",
    "    )\n",
    "    result = session.write_transaction( lambda tx: \n",
    "        tx.run(\"CREATE INDEX IF NOT EXISTS FOR (p:Package) ON (p.louvain)\").consume()\n",
    "    )"
   ]
  },
  {
   "cell_type": "code",
   "execution_count": 63,
   "metadata": {},
   "outputs": [
    {
     "output_type": "execute_result",
     "data": {
      "text/plain": [
       "                              App                                   Package  \\\n",
       "0         Canada Post Corporation                    com.canadapost.android   \n",
       "1                       Word Farm                 com.realcasualgames.words   \n",
       "2            Fortunes of War FREE                        fortunesofwar.free   \n",
       "3  Better Keyboard: Avatar Purple  com.cc.betterkeyboard.skins.avatarpurple   \n",
       "5         Ms Claus Live Wallpaper           tmc.christmaslady.livewallpaper   \n",
       "\n",
       "           Category                                        Description  \\\n",
       "0          Business  Canada Post Mobile App gives you access to som...   \n",
       "1    Brain & Puzzle  Speed and strategy combine in this exciting wo...   \n",
       "2    Cards & Casino  Fortunes of War is a fast-paced, easy to learn...   \n",
       "3  Libraries & Demo  Skin for Better Keyboard featuring a glossy fe...   \n",
       "5   Personalization  Ms Claus Live Wallpaper<p>Find more Free apps ...   \n",
       "\n",
       "   Rating  Number of ratings  Price  \\\n",
       "0     3.1                 77    0.0   \n",
       "1     4.3                199    0.0   \n",
       "2     4.1                243    0.0   \n",
       "3     3.6               2589    0.0   \n",
       "5     4.5                 16    0.0   \n",
       "\n",
       "                                        Related apps  \\\n",
       "0  {com.adaffix.pub.ca.android, com.kevinquan.gas...   \n",
       "1  {air.com.zubawing.FastWordLite, com.joybits.do...   \n",
       "2  {com.kevinquan.condado, hu.monsta.pazaak, net....   \n",
       "3  {eu.gdumoulin.betterandroid.skins.transparent....   \n",
       "5  {tmc.christmassanta.livewallpaper, tmc.winterh...   \n",
       "\n",
       "   Dangerous permissions count  Safe permissions count  ...  \\\n",
       "0                          7.0                       1  ...   \n",
       "1                          3.0                       2  ...   \n",
       "2                          1.0                       1  ...   \n",
       "3                          0.0                       0  ...   \n",
       "5                          3.0                       1  ...   \n",
       "\n",
       "   Your personal information : read calendar events (D)  \\\n",
       "0                                                  0      \n",
       "1                                                  0      \n",
       "2                                                  0      \n",
       "3                                                  0      \n",
       "5                                                  0      \n",
       "\n",
       "   Your personal information : read contact data (D)  \\\n",
       "0                                                  1   \n",
       "1                                                  0   \n",
       "2                                                  0   \n",
       "3                                                  0   \n",
       "5                                                  0   \n",
       "\n",
       "   Your personal information : read sensitive log data (D)  \\\n",
       "0                                                  0         \n",
       "1                                                  0         \n",
       "2                                                  0         \n",
       "3                                                  0         \n",
       "5                                                  0         \n",
       "\n",
       "   Your personal information : read user defined dictionary (D)  \\\n",
       "0                                                  0              \n",
       "1                                                  0              \n",
       "2                                                  0              \n",
       "3                                                  0              \n",
       "5                                                  0              \n",
       "\n",
       "   Your personal information : retrieve system internal state (S)  \\\n",
       "0                                                  0                \n",
       "1                                                  0                \n",
       "2                                                  0                \n",
       "3                                                  0                \n",
       "5                                                  0                \n",
       "\n",
       "   Your personal information : set alarm in alarm clock (S)  \\\n",
       "0                                                  0          \n",
       "1                                                  0          \n",
       "2                                                  0          \n",
       "3                                                  0          \n",
       "5                                                  0          \n",
       "\n",
       "   Your personal information : write Browser's history and bookmarks (D)  \\\n",
       "0                                                  0                       \n",
       "1                                                  0                       \n",
       "2                                                  0                       \n",
       "3                                                  0                       \n",
       "5                                                  0                       \n",
       "\n",
       "   Your personal information : write contact data (D)  \\\n",
       "0                                                  1    \n",
       "1                                                  0    \n",
       "2                                                  0    \n",
       "3                                                  0    \n",
       "5                                                  0    \n",
       "\n",
       "   Your personal information : write to user defined dictionary (S)  Class  \n",
       "0                                                  0                     0  \n",
       "1                                                  0                     0  \n",
       "2                                                  0                     0  \n",
       "3                                                  0                     0  \n",
       "5                                                  0                     0  \n",
       "\n",
       "[5 rows x 184 columns]"
      ],
      "text/html": "<div>\n<style scoped>\n    .dataframe tbody tr th:only-of-type {\n        vertical-align: middle;\n    }\n\n    .dataframe tbody tr th {\n        vertical-align: top;\n    }\n\n    .dataframe thead th {\n        text-align: right;\n    }\n</style>\n<table border=\"1\" class=\"dataframe\">\n  <thead>\n    <tr style=\"text-align: right;\">\n      <th></th>\n      <th>App</th>\n      <th>Package</th>\n      <th>Category</th>\n      <th>Description</th>\n      <th>Rating</th>\n      <th>Number of ratings</th>\n      <th>Price</th>\n      <th>Related apps</th>\n      <th>Dangerous permissions count</th>\n      <th>Safe permissions count</th>\n      <th>...</th>\n      <th>Your personal information : read calendar events (D)</th>\n      <th>Your personal information : read contact data (D)</th>\n      <th>Your personal information : read sensitive log data (D)</th>\n      <th>Your personal information : read user defined dictionary (D)</th>\n      <th>Your personal information : retrieve system internal state (S)</th>\n      <th>Your personal information : set alarm in alarm clock (S)</th>\n      <th>Your personal information : write Browser's history and bookmarks (D)</th>\n      <th>Your personal information : write contact data (D)</th>\n      <th>Your personal information : write to user defined dictionary (S)</th>\n      <th>Class</th>\n    </tr>\n  </thead>\n  <tbody>\n    <tr>\n      <th>0</th>\n      <td>Canada Post Corporation</td>\n      <td>com.canadapost.android</td>\n      <td>Business</td>\n      <td>Canada Post Mobile App gives you access to som...</td>\n      <td>3.1</td>\n      <td>77</td>\n      <td>0.0</td>\n      <td>{com.adaffix.pub.ca.android, com.kevinquan.gas...</td>\n      <td>7.0</td>\n      <td>1</td>\n      <td>...</td>\n      <td>0</td>\n      <td>1</td>\n      <td>0</td>\n      <td>0</td>\n      <td>0</td>\n      <td>0</td>\n      <td>0</td>\n      <td>1</td>\n      <td>0</td>\n      <td>0</td>\n    </tr>\n    <tr>\n      <th>1</th>\n      <td>Word Farm</td>\n      <td>com.realcasualgames.words</td>\n      <td>Brain &amp; Puzzle</td>\n      <td>Speed and strategy combine in this exciting wo...</td>\n      <td>4.3</td>\n      <td>199</td>\n      <td>0.0</td>\n      <td>{air.com.zubawing.FastWordLite, com.joybits.do...</td>\n      <td>3.0</td>\n      <td>2</td>\n      <td>...</td>\n      <td>0</td>\n      <td>0</td>\n      <td>0</td>\n      <td>0</td>\n      <td>0</td>\n      <td>0</td>\n      <td>0</td>\n      <td>0</td>\n      <td>0</td>\n      <td>0</td>\n    </tr>\n    <tr>\n      <th>2</th>\n      <td>Fortunes of War FREE</td>\n      <td>fortunesofwar.free</td>\n      <td>Cards &amp; Casino</td>\n      <td>Fortunes of War is a fast-paced, easy to learn...</td>\n      <td>4.1</td>\n      <td>243</td>\n      <td>0.0</td>\n      <td>{com.kevinquan.condado, hu.monsta.pazaak, net....</td>\n      <td>1.0</td>\n      <td>1</td>\n      <td>...</td>\n      <td>0</td>\n      <td>0</td>\n      <td>0</td>\n      <td>0</td>\n      <td>0</td>\n      <td>0</td>\n      <td>0</td>\n      <td>0</td>\n      <td>0</td>\n      <td>0</td>\n    </tr>\n    <tr>\n      <th>3</th>\n      <td>Better Keyboard: Avatar Purple</td>\n      <td>com.cc.betterkeyboard.skins.avatarpurple</td>\n      <td>Libraries &amp; Demo</td>\n      <td>Skin for Better Keyboard featuring a glossy fe...</td>\n      <td>3.6</td>\n      <td>2589</td>\n      <td>0.0</td>\n      <td>{eu.gdumoulin.betterandroid.skins.transparent....</td>\n      <td>0.0</td>\n      <td>0</td>\n      <td>...</td>\n      <td>0</td>\n      <td>0</td>\n      <td>0</td>\n      <td>0</td>\n      <td>0</td>\n      <td>0</td>\n      <td>0</td>\n      <td>0</td>\n      <td>0</td>\n      <td>0</td>\n    </tr>\n    <tr>\n      <th>5</th>\n      <td>Ms Claus Live Wallpaper</td>\n      <td>tmc.christmaslady.livewallpaper</td>\n      <td>Personalization</td>\n      <td>Ms Claus Live Wallpaper&lt;p&gt;Find more Free apps ...</td>\n      <td>4.5</td>\n      <td>16</td>\n      <td>0.0</td>\n      <td>{tmc.christmassanta.livewallpaper, tmc.winterh...</td>\n      <td>3.0</td>\n      <td>1</td>\n      <td>...</td>\n      <td>0</td>\n      <td>0</td>\n      <td>0</td>\n      <td>0</td>\n      <td>0</td>\n      <td>0</td>\n      <td>0</td>\n      <td>0</td>\n      <td>0</td>\n      <td>0</td>\n    </tr>\n  </tbody>\n</table>\n<p>5 rows × 184 columns</p>\n</div>"
     },
     "metadata": {},
     "execution_count": 63
    }
   ],
   "source": [
    "df = pd.read_csv(\"/Users/haklof/neo4j-enterprise/import/Android_Permission.csv\").dropna()\n",
    "df.head()"
   ]
  },
  {
   "cell_type": "code",
   "execution_count": 64,
   "metadata": {},
   "outputs": [
    {
     "output_type": "execute_result",
     "data": {
      "text/plain": [
       "Tic Tac Toe               45\n",
       "????????????              24\n",
       "Slot Machine              16\n",
       "??????????????????        15\n",
       "?????????????????????     14\n",
       "                          ..\n",
       "Vienna                     1\n",
       "Adult Sexy Strip Games     1\n",
       "Montreal Bixi              1\n",
       "AL Bubble Blast            1\n",
       "Book Tower Madness         1\n",
       "Name: App, Length: 22176, dtype: int64"
      ]
     },
     "metadata": {},
     "execution_count": 64
    }
   ],
   "source": [
    "df.App.value_counts()"
   ]
  },
  {
   "cell_type": "code",
   "execution_count": 93,
   "metadata": {},
   "outputs": [
    {
     "output_type": "stream",
     "name": "stdout",
     "text": [
      "{'name': 'Canada Post Corporation', 'description': 'Canada Post Mobile App gives you access to some of the the most popular tools on <a href=\"http://www.google.com/url?q=http://canadapost.ca&usg=AFQjCNGLsUtAzxPlFZBfYYGjv6mnRiMZJw\" target=\"_blank\">canadapost.ca</a>.  You can now Find a Postal Code, create your own personalized stamps and postcards with Picture Postage, Track a Package and Find a Post Office anywhere in Canada.<p>Now introducing Picture Postage Postcard!<p>Turn your photos into printed postcards???with delivery anywhere in the world for just $2.45 per card! Take a photo or select one from your camera roll, choose the recipient(s) from your contacts list and write your personal message. We???ll print, stamp and mail the postcard to each person on your list!<p>Use Picture Postage to create a personalized stamp for your letters and invitations.  Get started by taking a picture with your device, or access any photos that you have stored on your camera roll!<p>Use Find a Postal code for any address in Canada.<p>Use Track a Package to track and check the status of your items.  You can give the item a name and save it in the app (e.g., Mom???s package), so you can easily keep track of it until it is delivered.<p>Use Find a Post Office to locate the nearest Canada Post retail outlets, based on your GPS coordinates or an address that you enter.', 'rating': 3.1, 'numberOfRatings': 77, 'price': 0.0, 'dangerous': 7.0, 'safe': 1, 'rowNum': 0, 'class': 0}\n"
     ]
    }
   ],
   "source": [
    "apps = list()\n",
    "packages = set()\n",
    "app_installs = list()\n",
    "app_links = list()\n",
    "for idx, row in df.iterrows():\n",
    "    app = { \n",
    "        'name': row['App'],\n",
    "        'description': row['Description'],\n",
    "        'rating': row['Rating'],\n",
    "        'numberOfRatings': row['Number of ratings'],\n",
    "        'price': row['Price'],\n",
    "        'dangerous': row['Dangerous permissions count'],\n",
    "        'safe': row['Safe permissions count'],\n",
    "        'rowNum': idx,\n",
    "        'class': row['Class']\n",
    "    }\n",
    "    if row['Package'] != None:\n",
    "        app_installs.append({'app': row['App'], 'package': row['Package']})\n",
    "    app_links.append({'app': row['App'],  \"relatedPackages\": [ package.strip() for package in row['Related apps'][1:-1].split(',') ]})\n",
    "    packages.add(row['Package'])\n",
    "    [ packages.add(package.strip()) for package in row['Related apps'][1:-1].split(',') ]\n",
    "    apps.append(app)        \n",
    "print(apps[0])"
   ]
  },
  {
   "cell_type": "code",
   "execution_count": 77,
   "metadata": {},
   "outputs": [
    {
     "output_type": "display_data",
     "data": {
      "text/plain": "Empty DataFrame\nColumns: []\nIndex: []",
      "text/html": "<div>\n<style scoped>\n    .dataframe tbody tr th:only-of-type {\n        vertical-align: middle;\n    }\n\n    .dataframe tbody tr th {\n        vertical-align: top;\n    }\n\n    .dataframe thead th {\n        text-align: right;\n    }\n</style>\n<table border=\"1\" class=\"dataframe\">\n  <thead>\n    <tr style=\"text-align: right;\">\n      <th></th>\n    </tr>\n  </thead>\n  <tbody>\n  </tbody>\n</table>\n</div>"
     },
     "metadata": {}
    }
   ],
   "source": [
    "# Create Package nodes\n",
    "with driver.session(database = DB_NAME) as session:\n",
    "    result = session.write_transaction( lambda tx: \n",
    "        tx.run(\n",
    "            \"\"\"\n",
    "            UNWIND $packages as package\n",
    "            MERGE (a:Package{name:package})\n",
    "            \"\"\",\n",
    "            packages = list(packages)\n",
    "        ).data()\n",
    "    )\n",
    "    resultFrame = pd.DataFrame(result)\n",
    "    display(resultFrame)"
   ]
  },
  {
   "cell_type": "code",
   "execution_count": 144,
   "metadata": {},
   "outputs": [
    {
     "output_type": "display_data",
     "data": {
      "text/plain": "Empty DataFrame\nColumns: []\nIndex: []",
      "text/html": "<div>\n<style scoped>\n    .dataframe tbody tr th:only-of-type {\n        vertical-align: middle;\n    }\n\n    .dataframe tbody tr th {\n        vertical-align: top;\n    }\n\n    .dataframe thead th {\n        text-align: right;\n    }\n</style>\n<table border=\"1\" class=\"dataframe\">\n  <thead>\n    <tr style=\"text-align: right;\">\n      <th></th>\n    </tr>\n  </thead>\n  <tbody>\n  </tbody>\n</table>\n</div>"
     },
     "metadata": {}
    }
   ],
   "source": [
    "# Create App nodes\n",
    "with driver.session(database = DB_NAME) as session:\n",
    "    result = session.write_transaction( lambda tx: \n",
    "        tx.run(\n",
    "            \"\"\"\n",
    "            UNWIND $apps as app\n",
    "            MERGE (a:App{name:app.name})\n",
    "            SET a.description = app.description,\n",
    "                a.rating = toFloat(app.rating),\n",
    "                a.numberOfRatings = toInteger(app.numberOfRatings),\n",
    "                a.price = toFloat(app.price),\n",
    "                a.dangerous = toInteger(app.dangerous),\n",
    "                a.safe = toInteger(app.safe),\n",
    "                a.rowNum = app.rowNum,\n",
    "                a.class = toInteger(app.class)\n",
    "            \"\"\",\n",
    "            apps = apps\n",
    "        ).data()\n",
    "    )\n",
    "    resultFrame = pd.DataFrame(result)\n",
    "    display(resultFrame)"
   ]
  },
  {
   "cell_type": "code",
   "execution_count": 145,
   "metadata": {},
   "outputs": [
    {
     "output_type": "display_data",
     "data": {
      "text/plain": "Empty DataFrame\nColumns: []\nIndex: []",
      "text/html": "<div>\n<style scoped>\n    .dataframe tbody tr th:only-of-type {\n        vertical-align: middle;\n    }\n\n    .dataframe tbody tr th {\n        vertical-align: top;\n    }\n\n    .dataframe thead th {\n        text-align: right;\n    }\n</style>\n<table border=\"1\" class=\"dataframe\">\n  <thead>\n    <tr style=\"text-align: right;\">\n      <th></th>\n    </tr>\n  </thead>\n  <tbody>\n  </tbody>\n</table>\n</div>"
     },
     "metadata": {}
    }
   ],
   "source": [
    "# Create App - INSTALLS -> Package rels\n",
    "with driver.session(database = DB_NAME) as session:\n",
    "    result = session.write_transaction( lambda tx: \n",
    "        tx.run(\n",
    "            \"\"\"\n",
    "            UNWIND $app_installs as rel\n",
    "            MATCH (a:App{name: rel.app}), (p:Package{name: rel.package})\n",
    "            MERGE (a)-[:INSTALLS]->(p)\n",
    "            \"\"\",\n",
    "            app_installs = app_installs\n",
    "        ).data()\n",
    "    )\n",
    "    resultFrame = pd.DataFrame(result)\n",
    "    display(resultFrame)"
   ]
  },
  {
   "cell_type": "code",
   "execution_count": 146,
   "metadata": {},
   "outputs": [
    {
     "output_type": "display_data",
     "data": {
      "text/plain": "Empty DataFrame\nColumns: []\nIndex: []",
      "text/html": "<div>\n<style scoped>\n    .dataframe tbody tr th:only-of-type {\n        vertical-align: middle;\n    }\n\n    .dataframe tbody tr th {\n        vertical-align: top;\n    }\n\n    .dataframe thead th {\n        text-align: right;\n    }\n</style>\n<table border=\"1\" class=\"dataframe\">\n  <thead>\n    <tr style=\"text-align: right;\">\n      <th></th>\n    </tr>\n  </thead>\n  <tbody>\n  </tbody>\n</table>\n</div>"
     },
     "metadata": {}
    }
   ],
   "source": [
    "# Create App - LINKS -> Package rels\n",
    "with driver.session(database = DB_NAME) as session:\n",
    "    result = session.write_transaction( lambda tx: \n",
    "        tx.run(\n",
    "            \"\"\"\n",
    "            UNWIND $app_links as rel\n",
    "            MATCH (a:App{name: rel.app}), (p:Package)\n",
    "            WHERE p.name in rel.relatedPackages\n",
    "            MERGE (a)-[:LINKS]->(p)\n",
    "            \"\"\",\n",
    "            app_links = app_links\n",
    "        ).data()\n",
    "    )\n",
    "    resultFrame = pd.DataFrame(result)\n",
    "    display(resultFrame)"
   ]
  },
  {
   "cell_type": "code",
   "execution_count": 147,
   "metadata": {},
   "outputs": [
    {
     "output_type": "display_data",
     "data": {
      "text/plain": "Empty DataFrame\nColumns: []\nIndex: []",
      "text/html": "<div>\n<style scoped>\n    .dataframe tbody tr th:only-of-type {\n        vertical-align: middle;\n    }\n\n    .dataframe tbody tr th {\n        vertical-align: top;\n    }\n\n    .dataframe thead th {\n        text-align: right;\n    }\n</style>\n<table border=\"1\" class=\"dataframe\">\n  <thead>\n    <tr style=\"text-align: right;\">\n      <th></th>\n    </tr>\n  </thead>\n  <tbody>\n  </tbody>\n</table>\n</div>"
     },
     "metadata": {}
    }
   ],
   "source": [
    "# Add label for Malware\n",
    "with driver.session(database = DB_NAME) as session:\n",
    "    result = session.write_transaction( lambda tx: \n",
    "        tx.run(\n",
    "            \"\"\"\n",
    "            MATCH (a:App) where a.class = 1\n",
    "            set a:Malware\n",
    "            \"\"\"\n",
    "        ).data()\n",
    "    )\n",
    "    resultFrame = pd.DataFrame(result)\n",
    "    display(resultFrame)"
   ]
  },
  {
   "cell_type": "code",
   "execution_count": 148,
   "metadata": {},
   "outputs": [
    {
     "output_type": "display_data",
     "data": {
      "text/plain": "Empty DataFrame\nColumns: []\nIndex: []",
      "text/html": "<div>\n<style scoped>\n    .dataframe tbody tr th:only-of-type {\n        vertical-align: middle;\n    }\n\n    .dataframe tbody tr th {\n        vertical-align: top;\n    }\n\n    .dataframe thead th {\n        text-align: right;\n    }\n</style>\n<table border=\"1\" class=\"dataframe\">\n  <thead>\n    <tr style=\"text-align: right;\">\n      <th></th>\n    </tr>\n  </thead>\n  <tbody>\n  </tbody>\n</table>\n</div>"
     },
     "metadata": {}
    }
   ],
   "source": [
    "# Calculate dangerousness of app\n",
    "with driver.session(database = DB_NAME) as session:\n",
    "    result = session.write_transaction( lambda tx: \n",
    "        tx.run(\n",
    "            \"\"\"\n",
    "            MATCH (a:App)\n",
    "            set a.dangerousness = a.dangerous/(a.safe + a.dangerous + 0.00001)\n",
    "            \"\"\"\n",
    "        ).data()\n",
    "    )\n",
    "    resultFrame = pd.DataFrame(result)\n",
    "    display(resultFrame)"
   ]
  },
  {
   "cell_type": "code",
   "execution_count": 149,
   "metadata": {},
   "outputs": [
    {
     "output_type": "display_data",
     "data": {
      "text/plain": "                                           nodeQuery  \\\n0  MATCH (a:App) return id(a) as id, \\n          ...   \n\n                                   relationshipQuery       graphName  \\\n0  MATCH (a1:App)-[:LINKS|INSTALLS]->(p:Package)<...  app-projection   \n\n   nodeCount  relationshipCount  createMillis  \n0      22176             444070           563  ",
      "text/html": "<div>\n<style scoped>\n    .dataframe tbody tr th:only-of-type {\n        vertical-align: middle;\n    }\n\n    .dataframe tbody tr th {\n        vertical-align: top;\n    }\n\n    .dataframe thead th {\n        text-align: right;\n    }\n</style>\n<table border=\"1\" class=\"dataframe\">\n  <thead>\n    <tr style=\"text-align: right;\">\n      <th></th>\n      <th>nodeQuery</th>\n      <th>relationshipQuery</th>\n      <th>graphName</th>\n      <th>nodeCount</th>\n      <th>relationshipCount</th>\n      <th>createMillis</th>\n    </tr>\n  </thead>\n  <tbody>\n    <tr>\n      <th>0</th>\n      <td>MATCH (a:App) return id(a) as id, \\n          ...</td>\n      <td>MATCH (a1:App)-[:LINKS|INSTALLS]-&gt;(p:Package)&lt;...</td>\n      <td>app-projection</td>\n      <td>22176</td>\n      <td>444070</td>\n      <td>563</td>\n    </tr>\n  </tbody>\n</table>\n</div>"
     },
     "metadata": {}
    }
   ],
   "source": [
    "# Create graph projection \n",
    "with driver.session(database = DB_NAME) as session:\n",
    "    result = session.write_transaction( lambda tx: \n",
    "        tx.run(\"CALL gds.graph.drop('app-projection', false)\").consume()\n",
    "    )\n",
    "with driver.session(database = DB_NAME) as session:\n",
    "    result = session.write_transaction( lambda tx: \n",
    "        tx.run(\n",
    "            \"\"\"\n",
    "            CALL gds.graph.create.cypher('app-projection',\n",
    "            'MATCH (a:App) return id(a) as id, \n",
    "                [\"App\"] as labels,\n",
    "                a.class as class, \n",
    "                coalesce(a.numberOfRatings, 0) as numberOfRatings, \n",
    "                coalesce(a.rating,0.0) as rating, \n",
    "                coalesce(a.price,0.0) as price,\n",
    "                coalesce(a.dangerous,0) as dangerous,\n",
    "                coalesce(a.safe,0) as safe',\n",
    "            'MATCH (a1:App)-[:LINKS|INSTALLS]->(p:Package)<-[:LINKS|INSTALLS]->(a2:App) \n",
    "            RETURN id(a1) as source, id(a2) as target, (a1.dangerousness+a2.dangerousness)/2 as risk\n",
    "            ')\n",
    "            \"\"\"\n",
    "        ).data()\n",
    "    )\n",
    "    resultFrame = pd.DataFrame(result)\n",
    "    display(resultFrame)"
   ]
  },
  {
   "cell_type": "code",
   "execution_count": 150,
   "metadata": {},
   "outputs": [
    {
     "output_type": "display_data",
     "data": {
      "text/plain": "   nodePropertiesWritten  mutateMillis  nodeCount  createMillis  \\\n0                  22176             0      22176             0   \n\n   computeMillis                                      configuration  \n0             20  {'normalizationStrength': 0.0, 'iterationWeigh...  ",
      "text/html": "<div>\n<style scoped>\n    .dataframe tbody tr th:only-of-type {\n        vertical-align: middle;\n    }\n\n    .dataframe tbody tr th {\n        vertical-align: top;\n    }\n\n    .dataframe thead th {\n        text-align: right;\n    }\n</style>\n<table border=\"1\" class=\"dataframe\">\n  <thead>\n    <tr style=\"text-align: right;\">\n      <th></th>\n      <th>nodePropertiesWritten</th>\n      <th>mutateMillis</th>\n      <th>nodeCount</th>\n      <th>createMillis</th>\n      <th>computeMillis</th>\n      <th>configuration</th>\n    </tr>\n  </thead>\n  <tbody>\n    <tr>\n      <th>0</th>\n      <td>22176</td>\n      <td>0</td>\n      <td>22176</td>\n      <td>0</td>\n      <td>20</td>\n      <td>{'normalizationStrength': 0.0, 'iterationWeigh...</td>\n    </tr>\n  </tbody>\n</table>\n</div>"
     },
     "metadata": {}
    }
   ],
   "source": [
    "# Create embedding\n",
    "with driver.session(database = DB_NAME) as session:\n",
    "    result = session.write_transaction( lambda tx: \n",
    "        tx.run(\n",
    "            \"\"\"\n",
    "            call gds.fastRP.mutate('app-projection',{\n",
    "                embeddingDimension:8, \n",
    "                relationshipWeightProperty: 'risk',\n",
    "                mutateProperty: 'embedding'\n",
    "                })\n",
    "            \"\"\"\n",
    "        ).data()\n",
    "    )\n",
    "    resultFrame = pd.DataFrame(result)\n",
    "    display(resultFrame)"
   ]
  },
  {
   "cell_type": "code",
   "execution_count": 152,
   "metadata": {},
   "outputs": [
    {
     "output_type": "error",
     "ename": "ClientError",
     "evalue": "{code: Neo.ClientError.Procedure.ProcedureCallFailed} {message: Failed to invoke procedure `gds.alpha.ml.nodeClassification.train`: Caused by: java.lang.IllegalArgumentException: Node with ID 10207 has invalid feature property value NaN. Properties with NaN values: []}",
     "traceback": [
      "\u001b[0;31m---------------------------------------------------------------------------\u001b[0m",
      "\u001b[0;31mClientError\u001b[0m                               Traceback (most recent call last)",
      "\u001b[0;32m<ipython-input-152-455eb51c98f3>\u001b[0m in \u001b[0;36m<module>\u001b[0;34m\u001b[0m\n\u001b[1;32m      1\u001b[0m \u001b[0;32mwith\u001b[0m \u001b[0mdriver\u001b[0m\u001b[0;34m.\u001b[0m\u001b[0msession\u001b[0m\u001b[0;34m(\u001b[0m\u001b[0mdatabase\u001b[0m \u001b[0;34m=\u001b[0m \u001b[0mDB_NAME\u001b[0m\u001b[0;34m)\u001b[0m \u001b[0;32mas\u001b[0m \u001b[0msession\u001b[0m\u001b[0;34m:\u001b[0m\u001b[0;34m\u001b[0m\u001b[0;34m\u001b[0m\u001b[0m\n\u001b[0;32m----> 2\u001b[0;31m     result = session.write_transaction( lambda tx: \n\u001b[0m\u001b[1;32m      3\u001b[0m         tx.run(\n\u001b[1;32m      4\u001b[0m             \"\"\"\n\u001b[1;32m      5\u001b[0m             call gds.alpha.ml.nodeClassification.train('app-projection',{\n",
      "\u001b[0;32m~/projects/public/notebooks/venv/lib/python3.7/site-packages/neo4j/work/simple.py\u001b[0m in \u001b[0;36mwrite_transaction\u001b[0;34m(self, transaction_function, *args, **kwargs)\u001b[0m\n\u001b[1;32m    401\u001b[0m         \u001b[0;34m:\u001b[0m\u001b[0;32mreturn\u001b[0m\u001b[0;34m:\u001b[0m \u001b[0ma\u001b[0m \u001b[0mresult\u001b[0m \u001b[0;32mas\u001b[0m \u001b[0mreturned\u001b[0m \u001b[0mby\u001b[0m \u001b[0mthe\u001b[0m \u001b[0mgiven\u001b[0m \u001b[0munit\u001b[0m \u001b[0mof\u001b[0m \u001b[0mwork\u001b[0m\u001b[0;34m\u001b[0m\u001b[0;34m\u001b[0m\u001b[0m\n\u001b[1;32m    402\u001b[0m         \"\"\"\n\u001b[0;32m--> 403\u001b[0;31m         \u001b[0;32mreturn\u001b[0m \u001b[0mself\u001b[0m\u001b[0;34m.\u001b[0m\u001b[0m_run_transaction\u001b[0m\u001b[0;34m(\u001b[0m\u001b[0mWRITE_ACCESS\u001b[0m\u001b[0;34m,\u001b[0m \u001b[0mtransaction_function\u001b[0m\u001b[0;34m,\u001b[0m \u001b[0;34m*\u001b[0m\u001b[0margs\u001b[0m\u001b[0;34m,\u001b[0m \u001b[0;34m**\u001b[0m\u001b[0mkwargs\u001b[0m\u001b[0;34m)\u001b[0m\u001b[0;34m\u001b[0m\u001b[0;34m\u001b[0m\u001b[0m\n\u001b[0m\u001b[1;32m    404\u001b[0m \u001b[0;34m\u001b[0m\u001b[0m\n\u001b[1;32m    405\u001b[0m \u001b[0;34m\u001b[0m\u001b[0m\n",
      "\u001b[0;32m~/projects/public/notebooks/venv/lib/python3.7/site-packages/neo4j/work/simple.py\u001b[0m in \u001b[0;36m_run_transaction\u001b[0;34m(self, access_mode, transaction_function, *args, **kwargs)\u001b[0m\n\u001b[1;32m    307\u001b[0m                 \u001b[0mtx\u001b[0m \u001b[0;34m=\u001b[0m \u001b[0mself\u001b[0m\u001b[0;34m.\u001b[0m\u001b[0m_transaction\u001b[0m\u001b[0;34m\u001b[0m\u001b[0;34m\u001b[0m\u001b[0m\n\u001b[1;32m    308\u001b[0m                 \u001b[0;32mtry\u001b[0m\u001b[0;34m:\u001b[0m\u001b[0;34m\u001b[0m\u001b[0;34m\u001b[0m\u001b[0m\n\u001b[0;32m--> 309\u001b[0;31m                     \u001b[0mresult\u001b[0m \u001b[0;34m=\u001b[0m \u001b[0mtransaction_function\u001b[0m\u001b[0;34m(\u001b[0m\u001b[0mtx\u001b[0m\u001b[0;34m,\u001b[0m \u001b[0;34m*\u001b[0m\u001b[0margs\u001b[0m\u001b[0;34m,\u001b[0m \u001b[0;34m**\u001b[0m\u001b[0mkwargs\u001b[0m\u001b[0;34m)\u001b[0m\u001b[0;34m\u001b[0m\u001b[0;34m\u001b[0m\u001b[0m\n\u001b[0m\u001b[1;32m    310\u001b[0m                 \u001b[0;32mexcept\u001b[0m \u001b[0mException\u001b[0m\u001b[0;34m:\u001b[0m\u001b[0;34m\u001b[0m\u001b[0;34m\u001b[0m\u001b[0m\n\u001b[1;32m    311\u001b[0m                     \u001b[0mtx\u001b[0m\u001b[0;34m.\u001b[0m\u001b[0mrollback\u001b[0m\u001b[0;34m(\u001b[0m\u001b[0;34m)\u001b[0m\u001b[0;34m\u001b[0m\u001b[0;34m\u001b[0m\u001b[0m\n",
      "\u001b[0;32m<ipython-input-152-455eb51c98f3>\u001b[0m in \u001b[0;36m<lambda>\u001b[0;34m(tx)\u001b[0m\n\u001b[1;32m     22\u001b[0m             \u001b[0mmodelInfo\u001b[0m\u001b[0;34m.\u001b[0m\u001b[0mmetrics\u001b[0m\u001b[0;34m.\u001b[0m\u001b[0mF1_WEIGHTED\u001b[0m\u001b[0;34m.\u001b[0m\u001b[0mouterTrain\u001b[0m \u001b[0mAS\u001b[0m \u001b[0mtrainGraphScore\u001b[0m\u001b[0;34m,\u001b[0m\u001b[0;34m\u001b[0m\u001b[0;34m\u001b[0m\u001b[0m\n\u001b[1;32m     23\u001b[0m             \u001b[0mmodelInfo\u001b[0m\u001b[0;34m.\u001b[0m\u001b[0mmetrics\u001b[0m\u001b[0;34m.\u001b[0m\u001b[0mF1_WEIGHTED\u001b[0m\u001b[0;34m.\u001b[0m\u001b[0mtest\u001b[0m \u001b[0mAS\u001b[0m \u001b[0mtestGraphScore\u001b[0m\u001b[0;34m\u001b[0m\u001b[0;34m\u001b[0m\u001b[0m\n\u001b[0;32m---> 24\u001b[0;31m             \"\"\"\n\u001b[0m\u001b[1;32m     25\u001b[0m         ).data()\n\u001b[1;32m     26\u001b[0m     )\n",
      "\u001b[0;32m~/projects/public/notebooks/venv/lib/python3.7/site-packages/neo4j/work/result.py\u001b[0m in \u001b[0;36mdata\u001b[0;34m(self, *keys)\u001b[0m\n\u001b[1;32m    350\u001b[0m         \u001b[0;34m:\u001b[0m\u001b[0mrtype\u001b[0m\u001b[0;34m:\u001b[0m \u001b[0mlist\u001b[0m\u001b[0;34m\u001b[0m\u001b[0;34m\u001b[0m\u001b[0m\n\u001b[1;32m    351\u001b[0m         \"\"\"\n\u001b[0;32m--> 352\u001b[0;31m         \u001b[0;32mreturn\u001b[0m \u001b[0;34m[\u001b[0m\u001b[0mrecord\u001b[0m\u001b[0;34m.\u001b[0m\u001b[0mdata\u001b[0m\u001b[0;34m(\u001b[0m\u001b[0;34m*\u001b[0m\u001b[0mkeys\u001b[0m\u001b[0;34m)\u001b[0m \u001b[0;32mfor\u001b[0m \u001b[0mrecord\u001b[0m \u001b[0;32min\u001b[0m \u001b[0mself\u001b[0m\u001b[0;34m]\u001b[0m\u001b[0;34m\u001b[0m\u001b[0;34m\u001b[0m\u001b[0m\n\u001b[0m",
      "\u001b[0;32m~/projects/public/notebooks/venv/lib/python3.7/site-packages/neo4j/work/result.py\u001b[0m in \u001b[0;36m<listcomp>\u001b[0;34m(.0)\u001b[0m\n\u001b[1;32m    350\u001b[0m         \u001b[0;34m:\u001b[0m\u001b[0mrtype\u001b[0m\u001b[0;34m:\u001b[0m \u001b[0mlist\u001b[0m\u001b[0;34m\u001b[0m\u001b[0;34m\u001b[0m\u001b[0m\n\u001b[1;32m    351\u001b[0m         \"\"\"\n\u001b[0;32m--> 352\u001b[0;31m         \u001b[0;32mreturn\u001b[0m \u001b[0;34m[\u001b[0m\u001b[0mrecord\u001b[0m\u001b[0;34m.\u001b[0m\u001b[0mdata\u001b[0m\u001b[0;34m(\u001b[0m\u001b[0;34m*\u001b[0m\u001b[0mkeys\u001b[0m\u001b[0;34m)\u001b[0m \u001b[0;32mfor\u001b[0m \u001b[0mrecord\u001b[0m \u001b[0;32min\u001b[0m \u001b[0mself\u001b[0m\u001b[0;34m]\u001b[0m\u001b[0;34m\u001b[0m\u001b[0;34m\u001b[0m\u001b[0m\n\u001b[0m",
      "\u001b[0;32m~/projects/public/notebooks/venv/lib/python3.7/site-packages/neo4j/work/result.py\u001b[0m in \u001b[0;36m__iter__\u001b[0;34m(self)\u001b[0m\n\u001b[1;32m    182\u001b[0m \u001b[0;34m\u001b[0m\u001b[0m\n\u001b[1;32m    183\u001b[0m             \u001b[0;32mwhile\u001b[0m \u001b[0mself\u001b[0m\u001b[0;34m.\u001b[0m\u001b[0m_attached\u001b[0m \u001b[0;32mis\u001b[0m \u001b[0;32mTrue\u001b[0m\u001b[0;34m:\u001b[0m  \u001b[0;31m# _attached is set to False for _pull on_summary and _discard on_summary\u001b[0m\u001b[0;34m\u001b[0m\u001b[0;34m\u001b[0m\u001b[0m\n\u001b[0;32m--> 184\u001b[0;31m                 \u001b[0mself\u001b[0m\u001b[0;34m.\u001b[0m\u001b[0m_connection\u001b[0m\u001b[0;34m.\u001b[0m\u001b[0mfetch_message\u001b[0m\u001b[0;34m(\u001b[0m\u001b[0;34m)\u001b[0m  \u001b[0;31m# Receive at least one message from the server, if available.\u001b[0m\u001b[0;34m\u001b[0m\u001b[0;34m\u001b[0m\u001b[0m\n\u001b[0m\u001b[1;32m    185\u001b[0m                 \u001b[0;32mif\u001b[0m \u001b[0mself\u001b[0m\u001b[0;34m.\u001b[0m\u001b[0m_attached\u001b[0m\u001b[0;34m:\u001b[0m\u001b[0;34m\u001b[0m\u001b[0;34m\u001b[0m\u001b[0m\n\u001b[1;32m    186\u001b[0m                     \u001b[0;32mif\u001b[0m \u001b[0mself\u001b[0m\u001b[0;34m.\u001b[0m\u001b[0m_record_buffer\u001b[0m\u001b[0;34m:\u001b[0m\u001b[0;34m\u001b[0m\u001b[0;34m\u001b[0m\u001b[0m\n",
      "\u001b[0;32m~/projects/public/notebooks/venv/lib/python3.7/site-packages/neo4j/io/_bolt4x1.py\u001b[0m in \u001b[0;36mfetch_message\u001b[0;34m(self)\u001b[0m\n\u001b[1;32m    351\u001b[0m             \u001b[0mlog\u001b[0m\u001b[0;34m.\u001b[0m\u001b[0mdebug\u001b[0m\u001b[0;34m(\u001b[0m\u001b[0;34m\"[#%04X]  S: FAILURE %r\"\u001b[0m\u001b[0;34m,\u001b[0m \u001b[0mself\u001b[0m\u001b[0;34m.\u001b[0m\u001b[0mlocal_port\u001b[0m\u001b[0;34m,\u001b[0m \u001b[0msummary_metadata\u001b[0m\u001b[0;34m)\u001b[0m\u001b[0;34m\u001b[0m\u001b[0;34m\u001b[0m\u001b[0m\n\u001b[1;32m    352\u001b[0m             \u001b[0;32mtry\u001b[0m\u001b[0;34m:\u001b[0m\u001b[0;34m\u001b[0m\u001b[0;34m\u001b[0m\u001b[0m\n\u001b[0;32m--> 353\u001b[0;31m                 \u001b[0mresponse\u001b[0m\u001b[0;34m.\u001b[0m\u001b[0mon_failure\u001b[0m\u001b[0;34m(\u001b[0m\u001b[0msummary_metadata\u001b[0m \u001b[0;32mor\u001b[0m \u001b[0;34m{\u001b[0m\u001b[0;34m}\u001b[0m\u001b[0;34m)\u001b[0m\u001b[0;34m\u001b[0m\u001b[0;34m\u001b[0m\u001b[0m\n\u001b[0m\u001b[1;32m    354\u001b[0m             \u001b[0;32mexcept\u001b[0m \u001b[0;34m(\u001b[0m\u001b[0mServiceUnavailable\u001b[0m\u001b[0;34m,\u001b[0m \u001b[0mDatabaseUnavailable\u001b[0m\u001b[0;34m)\u001b[0m\u001b[0;34m:\u001b[0m\u001b[0;34m\u001b[0m\u001b[0;34m\u001b[0m\u001b[0m\n\u001b[1;32m    355\u001b[0m                 \u001b[0;32mif\u001b[0m \u001b[0mself\u001b[0m\u001b[0;34m.\u001b[0m\u001b[0mpool\u001b[0m\u001b[0;34m:\u001b[0m\u001b[0;34m\u001b[0m\u001b[0;34m\u001b[0m\u001b[0m\n",
      "\u001b[0;32m~/projects/public/notebooks/venv/lib/python3.7/site-packages/neo4j/io/_bolt4x1.py\u001b[0m in \u001b[0;36mon_failure\u001b[0;34m(self, metadata)\u001b[0m\n\u001b[1;32m    550\u001b[0m         \u001b[0;32mif\u001b[0m \u001b[0mcallable\u001b[0m\u001b[0;34m(\u001b[0m\u001b[0mhandler\u001b[0m\u001b[0;34m)\u001b[0m\u001b[0;34m:\u001b[0m\u001b[0;34m\u001b[0m\u001b[0;34m\u001b[0m\u001b[0m\n\u001b[1;32m    551\u001b[0m             \u001b[0mhandler\u001b[0m\u001b[0;34m(\u001b[0m\u001b[0;34m)\u001b[0m\u001b[0;34m\u001b[0m\u001b[0;34m\u001b[0m\u001b[0m\n\u001b[0;32m--> 552\u001b[0;31m         \u001b[0;32mraise\u001b[0m \u001b[0mNeo4jError\u001b[0m\u001b[0;34m.\u001b[0m\u001b[0mhydrate\u001b[0m\u001b[0;34m(\u001b[0m\u001b[0;34m**\u001b[0m\u001b[0mmetadata\u001b[0m\u001b[0;34m)\u001b[0m\u001b[0;34m\u001b[0m\u001b[0;34m\u001b[0m\u001b[0m\n\u001b[0m\u001b[1;32m    553\u001b[0m \u001b[0;34m\u001b[0m\u001b[0m\n\u001b[1;32m    554\u001b[0m     \u001b[0;32mdef\u001b[0m \u001b[0mon_ignored\u001b[0m\u001b[0;34m(\u001b[0m\u001b[0mself\u001b[0m\u001b[0;34m,\u001b[0m \u001b[0mmetadata\u001b[0m\u001b[0;34m=\u001b[0m\u001b[0;32mNone\u001b[0m\u001b[0;34m)\u001b[0m\u001b[0;34m:\u001b[0m\u001b[0;34m\u001b[0m\u001b[0;34m\u001b[0m\u001b[0m\n",
      "\u001b[0;31mClientError\u001b[0m: {code: Neo.ClientError.Procedure.ProcedureCallFailed} {message: Failed to invoke procedure `gds.alpha.ml.nodeClassification.train`: Caused by: java.lang.IllegalArgumentException: Node with ID 10207 has invalid feature property value NaN. Properties with NaN values: []}"
     ]
    }
   ],
   "source": [
    "with driver.session(database = DB_NAME) as session:\n",
    "    result = session.write_transaction( lambda tx: \n",
    "        tx.run(\n",
    "            \"\"\"\n",
    "            call gds.alpha.ml.nodeClassification.train('app-projection',{\n",
    "                nodeLabels: ['App'],\n",
    "                modelName: 'risk-model',\n",
    "                featureProperties: ['embedding', 'numberOfRatings', 'rating', 'price', 'dangerous', 'safe'], \n",
    "                targetProperty: 'class', \n",
    "                metrics: ['F1_WEIGHTED','ACCURACY'], \n",
    "                holdoutFraction: 0.2, \n",
    "                validationFolds: 5, \n",
    "                randomSeed: 2,\n",
    "                params: [\n",
    "                    {penalty: 0},\n",
    "                    {penalty: 0.5},\n",
    "                    {penalty: 1.0}\n",
    "                    ]\n",
    "            }) YIELD modelInfo\n",
    "            RETURN\n",
    "            modelInfo.bestParameters AS winningModel,\n",
    "            modelInfo.metrics.F1_WEIGHTED.outerTrain AS trainGraphScore,\n",
    "            modelInfo.metrics.F1_WEIGHTED.test AS testGraphScore\n",
    "            \"\"\"\n",
    "        ).data()\n",
    "    )\n",
    "    resultFrame = pd.DataFrame(result)\n",
    "    display(resultFrame)"
   ]
  },
  {
   "cell_type": "code",
   "execution_count": null,
   "metadata": {},
   "outputs": [],
   "source": []
  }
 ],
 "metadata": {
  "kernelspec": {
   "name": "python373jvsc74a57bd0e8569910ce29b4d88138ffd002aec04575bea4f60de15b420fc13304ee94ad9b",
   "display_name": "Python 3.7.3 64-bit ('venv': venv)"
  },
  "language_info": {
   "codemirror_mode": {
    "name": "ipython",
    "version": 3
   },
   "file_extension": ".py",
   "mimetype": "text/x-python",
   "name": "python",
   "nbconvert_exporter": "python",
   "pygments_lexer": "ipython3",
   "version": "3.7.3"
  }
 },
 "nbformat": 4,
 "nbformat_minor": 4
}