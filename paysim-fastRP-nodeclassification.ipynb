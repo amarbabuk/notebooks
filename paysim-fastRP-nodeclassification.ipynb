{
 "cells": [
  {
   "cell_type": "code",
   "execution_count": 1,
   "metadata": {},
   "outputs": [],
   "source": [
    "import matplotlib.pyplot as plt\n",
    "import numpy as np\n",
    "\n",
    "from sklearn.manifold import TSNE\n",
    "from sklearn.model_selection import train_test_split\n",
    "from sklearn.linear_model import LogisticRegressionCV\n",
    "from sklearn.metrics import accuracy_score\n",
    "from sklearn.metrics import classification_report\n",
    "\n",
    "from neo4j import GraphDatabase"
   ]
  },
  {
   "source": [
    "driver = GraphDatabase.driver(\"bolt://localhost:7687\", auth=(\"neo4j\", \"test1234\"), encrypted=False)"
   ],
   "cell_type": "code",
   "metadata": {},
   "execution_count": 2,
   "outputs": []
  },
  {
   "cell_type": "code",
   "execution_count": 3,
   "metadata": {},
   "outputs": [],
   "source": [
    "def createGraphProjection(tx):\n",
    "    return tx.run(\n",
    "        \"\"\"CALL gds.graph.create(\n",
    "            'payment', \n",
    "            { Client: { label: 'Client', properties: { class: { property: 'class'} } } }, \n",
    "            { PAYS: { type: 'PAYS', orientation:'NATURAL'} }, \n",
    "            {\n",
    "                nodeProperties: { },\n",
    "                relationshipProperties: {amount: { property: 'amount', aggregation: 'NONE', defaultValue: 0.0 }}\n",
    "            }\n",
    "        )\"\"\"\n",
    "    ).consume()"
   ]
  },
  {
   "cell_type": "code",
   "execution_count": 4,
   "metadata": {},
   "outputs": [],
   "source": [
    "def runFastRP(tx): \n",
    "    return tx.run(\n",
    "        \"\"\"CALL gds.fastRP.mutate(\n",
    "            'payment', \n",
    "            {\n",
    "                embeddingDimension: 8,\n",
    "                iterationWeights: [0.0, 0.20, 0.40, 0.60, 0.80, 1.00, 1.20, 1.40, 1.60, 1.80, 2.00],\n",
    "                relationshipWeightProperty: 'amount',\n",
    "                mutateProperty:'fastRP'\n",
    "            }\n",
    "            )\"\"\"\n",
    "    ).consume()    "
   ]
  },
  {
   "cell_type": "code",
   "execution_count": 5,
   "metadata": {},
   "outputs": [],
   "source": [
    "def trainNodeClassification(tx):\n",
    "    return tx.run(\n",
    "        \"\"\"CALL gds.alpha.ml.nodeClassification.train('payment', {\n",
    "            nodeLabels: ['Client'],\n",
    "            modelName: 'fraud-model',\n",
    "            featureProperties: ['fastRP'],\n",
    "            targetProperty: 'class',\n",
    "            randomSeed: 2,\n",
    "            holdoutFraction: 0.3,\n",
    "            validationFolds: 5,\n",
    "            metrics: [ 'ACCURACY' ],\n",
    "            params: [\n",
    "                {penalty: 0.0625},\n",
    "                {penalty: 0.5},\n",
    "                {penalty: 1.0},\n",
    "                {penalty: 4.0}\n",
    "                ]\n",
    "            }\n",
    "            )\"\"\"\n",
    "    ).single()['modelInfo']\n",
    "    "
   ]
  },
  {
   "cell_type": "code",
   "execution_count": 6,
   "metadata": {},
   "outputs": [],
   "source": [
    "def dropGraphProjection(tx):\n",
    "    return tx.run(\"CALL gds.graph.drop('payment')\").consume()"
   ]
  },
  {
   "cell_type": "code",
   "execution_count": 7,
   "metadata": {},
   "outputs": [],
   "source": [
    "def dropModel(tx):\n",
    "    return tx.run(\"CALL gds.beta.model.drop('fraud-model')\").consume()"
   ]
  },
  {
   "cell_type": "code",
   "execution_count": 8,
   "metadata": {},
   "outputs": [
    {
     "output_type": "stream",
     "name": "stdout",
     "text": [
      "<neo4j.work.summary.ResultSummary object at 0x143136710>\n"
     ]
    }
   ],
   "source": [
    "# Create projection \n",
    "with driver.session(database = \"paysim\") as session:\n",
    "    result = session.read_transaction(createGraphProjection)\n",
    "    print(result)"
   ]
  },
  {
   "cell_type": "code",
   "execution_count": 9,
   "metadata": {},
   "outputs": [
    {
     "output_type": "stream",
     "name": "stdout",
     "text": [
      "<neo4j.work.summary.ResultSummary object at 0x143136b38>\n"
     ]
    }
   ],
   "source": [
    "# Run FastRP embedding\n",
    "with driver.session(database = \"paysim\") as session:\n",
    "    result = session.write_transaction(runFastRP)\n",
    "    print(result)"
   ]
  },
  {
   "cell_type": "code",
   "execution_count": 10,
   "metadata": {},
   "outputs": [
    {
     "output_type": "stream",
     "name": "stdout",
     "text": [
      "{'name': 'fraud-model', 'metrics': {'ACCURACY': {'outerTrain': 0.91210225, 'test': 0.91359903, 'validation': [{'avg': 0.9121022560000001, 'min': 0.91164004, 'params': {'penalty': 0.0625}, 'max': 0.91229215}, {'avg': 0.9121022560000001, 'min': 0.91164004, 'params': {'penalty': 0.5}, 'max': 0.91229215}, {'avg': 0.912232678, 'min': 0.9119661, 'params': {'penalty': 1.0}, 'max': 0.9126182}, {'avg': 0.9123630779999999, 'min': 0.9119661, 'params': {'penalty': 4.0}, 'max': 0.9126182}], 'train': [{'avg': 0.91210225, 'min': 0.91205478, 'params': {'penalty': 0.0625}, 'max': 0.91221779}, {'avg': 0.91210225, 'min': 0.91205478, 'params': {'penalty': 0.5}, 'max': 0.91221779}, {'avg': 0.912265262, 'min': 0.91205478, 'params': {'penalty': 1.0}, 'max': 0.91246231}, {'avg': 0.9123630739999999, 'min': 0.9122993, 'params': {'penalty': 4.0}, 'max': 0.91246231}]}}, 'type': 'multiClassNodeLogisticRegression', 'bestParameters': {'penalty': 4.0}, 'classes': [0, 1]}\n"
     ]
    }
   ],
   "source": [
    "# Run Node Classification ML\n",
    "with driver.session(database = \"paysim\") as session:\n",
    "    result = session.write_transaction(trainNodeClassification)\n",
    "    print(result)"
   ]
  },
  {
   "cell_type": "code",
   "execution_count": 11,
   "metadata": {},
   "outputs": [
    {
     "output_type": "stream",
     "name": "stdout",
     "text": [
      "<neo4j.work.summary.ResultSummary object at 0x143143e10>\n"
     ]
    }
   ],
   "source": [
    "# Drop projection\n",
    "with driver.session(database = \"paysim\") as session:\n",
    "    result = session.read_transaction(dropGraphProjection)\n",
    "    print(result)"
   ]
  },
  {
   "cell_type": "code",
   "execution_count": 12,
   "metadata": {},
   "outputs": [
    {
     "output_type": "stream",
     "name": "stdout",
     "text": [
      "<neo4j.work.summary.ResultSummary object at 0x143091ac8>\n"
     ]
    }
   ],
   "source": [
    "# Drop Node Classification Model\n",
    "with driver.session(database = \"paysim\") as session:\n",
    "    result = session.read_transaction(dropModel)\n",
    "    print(result)"
   ]
  }
 ],
 "metadata": {
  "kernelspec": {
   "name": "python3",
   "display_name": "Python 3",
   "language": "python"
  },
  "language_info": {
   "codemirror_mode": {
    "name": "ipython",
    "version": 3
   },
   "file_extension": ".py",
   "mimetype": "text/x-python",
   "name": "python",
   "nbconvert_exporter": "python",
   "pygments_lexer": "ipython3",
   "version": "3.7.3-final"
  }
 },
 "nbformat": 4,
 "nbformat_minor": 4
}