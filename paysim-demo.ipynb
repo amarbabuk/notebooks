{
 "cells": [
  {
   "cell_type": "code",
   "execution_count": 29,
   "metadata": {},
   "outputs": [],
   "source": [
    "import os\n",
    "import networkx as nx\n",
    "import matplotlib.pyplot as plt\n",
    "import plotly.graph_objects as go\n",
    "import numpy as np\n",
    "import pandas as pd\n",
    "\n",
    "from sklearn.manifold import TSNE\n",
    "from sklearn.model_selection import train_test_split\n",
    "from sklearn.linear_model import LogisticRegressionCV\n",
    "from sklearn.metrics import accuracy_score\n",
    "from sklearn.metrics import classification_report\n",
    "\n",
    "from neo4j import GraphDatabase"
   ]
  },
  {
   "cell_type": "code",
   "execution_count": 30,
   "metadata": {},
   "outputs": [],
   "source": [
    "DB_ULR = os.getenv(\"PAYSIM_URL\")\n",
    "DB_USER = os.getenv(\"PAYSIM_USER\")\n",
    "DB_PASS = os.getenv(\"PAYSIM_PASSWORD\")\n",
    "DB_NAME = os.getenv(\"PAYSIM_DB_NAME\")\n",
    "DB_ENCRYPTED = False\n"
   ]
  },
  {
   "source": [
    "driver = GraphDatabase.driver(DB_ULR, auth=(DB_USER, DB_PASS), encrypted=DB_ENCRYPTED)"
   ],
   "cell_type": "code",
   "metadata": {},
   "execution_count": 31,
   "outputs": []
  },
  {
   "cell_type": "code",
   "execution_count": 32,
   "metadata": {},
   "outputs": [
    {
     "output_type": "display_data",
     "data": {
      "text/plain": "     txType  TotalMarketValue  %MarketValue  %MarketTransactions  \\\n0    CashIn      2.078963e+10          43.7                 46.1   \n1   CashOut      9.617113e+09          20.2                 23.5   \n2   Payment      6.530112e+08           1.4                 23.1   \n3  Transfer      1.647720e+10          34.6                  6.0   \n4     Debit      2.580165e+07           0.1                  1.4   \n\n   AvgTransactionValue  NumberOfTransactions  \n0               139493                149037  \n1               126502                 76023  \n2                 8756                 74577  \n3               846721                 19460  \n4                 5874                  4392  ",
      "text/html": "<div>\n<style scoped>\n    .dataframe tbody tr th:only-of-type {\n        vertical-align: middle;\n    }\n\n    .dataframe tbody tr th {\n        vertical-align: top;\n    }\n\n    .dataframe thead th {\n        text-align: right;\n    }\n</style>\n<table border=\"1\" class=\"dataframe\">\n  <thead>\n    <tr style=\"text-align: right;\">\n      <th></th>\n      <th>txType</th>\n      <th>TotalMarketValue</th>\n      <th>%MarketValue</th>\n      <th>%MarketTransactions</th>\n      <th>AvgTransactionValue</th>\n      <th>NumberOfTransactions</th>\n    </tr>\n  </thead>\n  <tbody>\n    <tr>\n      <th>0</th>\n      <td>CashIn</td>\n      <td>2.078963e+10</td>\n      <td>43.7</td>\n      <td>46.1</td>\n      <td>139493</td>\n      <td>149037</td>\n    </tr>\n    <tr>\n      <th>1</th>\n      <td>CashOut</td>\n      <td>9.617113e+09</td>\n      <td>20.2</td>\n      <td>23.5</td>\n      <td>126502</td>\n      <td>76023</td>\n    </tr>\n    <tr>\n      <th>2</th>\n      <td>Payment</td>\n      <td>6.530112e+08</td>\n      <td>1.4</td>\n      <td>23.1</td>\n      <td>8756</td>\n      <td>74577</td>\n    </tr>\n    <tr>\n      <th>3</th>\n      <td>Transfer</td>\n      <td>1.647720e+10</td>\n      <td>34.6</td>\n      <td>6.0</td>\n      <td>846721</td>\n      <td>19460</td>\n    </tr>\n    <tr>\n      <th>4</th>\n      <td>Debit</td>\n      <td>2.580165e+07</td>\n      <td>0.1</td>\n      <td>1.4</td>\n      <td>5874</td>\n      <td>4392</td>\n    </tr>\n  </tbody>\n</table>\n</div>"
     },
     "metadata": {}
    }
   ],
   "source": [
    "# Get statistics\n",
    "with driver.session(database = DB_NAME) as session:\n",
    "    result = session.read_transaction( lambda tx: \n",
    "        tx.run(\n",
    "        \"\"\"\n",
    "        MATCH (t:Transaction)\n",
    "        WITH sum(t.amount) AS globalSum, count(t) AS globalCnt\n",
    "        WITH *, 10^3 AS scaleFactor\n",
    "        UNWIND ['CashIn', 'CashOut', 'Payment', 'Debit', 'Transfer'] AS txType\n",
    "        CALL apoc.cypher.run('MATCH (t:' + txType + ')\n",
    "            RETURN sum(t.amount) as txAmount, count(t) AS txCnt', {})\n",
    "        YIELD value\n",
    "        RETURN txType,value.txAmount AS TotalMarketValue,\n",
    "        100*round(scaleFactor*(toFloat(value.txAmount)/toFloat(globalSum)))\n",
    "            /scaleFactor AS `%MarketValue`,\n",
    "        100*round(scaleFactor*(toFloat(value.txCnt)/toFloat(globalCnt)))\n",
    "            /scaleFactor AS `%MarketTransactions`,\n",
    "        toInteger(toFloat(value.txAmount)/toFloat(value.txCnt)) AS AvgTransactionValue,\n",
    "        value.txCnt AS NumberOfTransactions\n",
    "        ORDER BY `%MarketTransactions` DESC\n",
    "        \"\"\"\n",
    "        ).data()\n",
    "    )\n",
    "    df = pd.DataFrame(result)\n",
    "    display(df)"
   ]
  },
  {
   "cell_type": "code",
   "execution_count": 33,
   "metadata": {},
   "outputs": [
    {
     "output_type": "display_data",
     "data": {
      "text/plain": "                 c.name  flagged_transactions\n0       Angel Dominguez                    10\n1          Nathan Stone                     9\n2      Sebastian Oneill                     9\n3       Thomas Jennings                     8\n4          Ethan Travis                     8\n..                  ...                   ...\n496  Nathaniel Peterson                     2\n497        Ryan Russell                     2\n498    Kennedy Reynolds                     2\n499      Colton Aguirre                     2\n500       Morgan Holden                     1\n\n[501 rows x 2 columns]",
      "text/html": "<div>\n<style scoped>\n    .dataframe tbody tr th:only-of-type {\n        vertical-align: middle;\n    }\n\n    .dataframe tbody tr th {\n        vertical-align: top;\n    }\n\n    .dataframe thead th {\n        text-align: right;\n    }\n</style>\n<table border=\"1\" class=\"dataframe\">\n  <thead>\n    <tr style=\"text-align: right;\">\n      <th></th>\n      <th>c.name</th>\n      <th>flagged_transactions</th>\n    </tr>\n  </thead>\n  <tbody>\n    <tr>\n      <th>0</th>\n      <td>Angel Dominguez</td>\n      <td>10</td>\n    </tr>\n    <tr>\n      <th>1</th>\n      <td>Nathan Stone</td>\n      <td>9</td>\n    </tr>\n    <tr>\n      <th>2</th>\n      <td>Sebastian Oneill</td>\n      <td>9</td>\n    </tr>\n    <tr>\n      <th>3</th>\n      <td>Thomas Jennings</td>\n      <td>8</td>\n    </tr>\n    <tr>\n      <th>4</th>\n      <td>Ethan Travis</td>\n      <td>8</td>\n    </tr>\n    <tr>\n      <th>...</th>\n      <td>...</td>\n      <td>...</td>\n    </tr>\n    <tr>\n      <th>496</th>\n      <td>Nathaniel Peterson</td>\n      <td>2</td>\n    </tr>\n    <tr>\n      <th>497</th>\n      <td>Ryan Russell</td>\n      <td>2</td>\n    </tr>\n    <tr>\n      <th>498</th>\n      <td>Kennedy Reynolds</td>\n      <td>2</td>\n    </tr>\n    <tr>\n      <th>499</th>\n      <td>Colton Aguirre</td>\n      <td>2</td>\n    </tr>\n    <tr>\n      <th>500</th>\n      <td>Morgan Holden</td>\n      <td>1</td>\n    </tr>\n  </tbody>\n</table>\n<p>501 rows × 2 columns</p>\n</div>"
     },
     "metadata": {}
    }
   ],
   "source": [
    "# Find clients with flagged transactions\n",
    "with driver.session(database = DB_NAME) as session:\n",
    "    result = session.read_transaction( lambda tx: \n",
    "        tx.run(\n",
    "        \"\"\"\n",
    "        MATCH (c:Client)-[]->(t:Transaction)\n",
    "        WHERE t.fraud=true\n",
    "        RETURN c.name, COUNT(t) AS flagged_transactions ORDER BY flagged_transactions DESC\n",
    "        \"\"\"\n",
    "        ).data()\n",
    "    )\n",
    "    df = pd.DataFrame(result)\n",
    "    display(df)"
   ]
  },
  {
   "cell_type": "code",
   "execution_count": 34,
   "metadata": {},
   "outputs": [
    {
     "output_type": "display_data",
     "data": {
      "text/plain": "   numberOfFlaggedFraudsters\n0                         36",
      "text/html": "<div>\n<style scoped>\n    .dataframe tbody tr th:only-of-type {\n        vertical-align: middle;\n    }\n\n    .dataframe tbody tr th {\n        vertical-align: top;\n    }\n\n    .dataframe thead th {\n        text-align: right;\n    }\n</style>\n<table border=\"1\" class=\"dataframe\">\n  <thead>\n    <tr style=\"text-align: right;\">\n      <th></th>\n      <th>numberOfFlaggedFraudsters</th>\n    </tr>\n  </thead>\n  <tbody>\n    <tr>\n      <th>0</th>\n      <td>36</td>\n    </tr>\n  </tbody>\n</table>\n</div>"
     },
     "metadata": {}
    }
   ],
   "source": [
    "# Refactor/set client as fraudster if involved in flagged transaction\n",
    "with driver.session(database = DB_NAME) as session:\n",
    "    result = session.write_transaction( lambda tx: \n",
    "        tx.run(\n",
    "        \"\"\"\n",
    "        MATCH (c:Client) \n",
    "        WHERE size( (c)-[]->(:Transaction{fraud:true})  ) > 4\n",
    "        set c.is_fraudster = 1\n",
    "        return count(*) as numberOfFlaggedFraudsters\n",
    "        \"\"\"\n",
    "        ).data()\n",
    "    )\n",
    "    df = pd.DataFrame(result)\n",
    "    display(df)\n"
   ]
  },
  {
   "cell_type": "code",
   "execution_count": 35,
   "metadata": {},
   "outputs": [
    {
     "output_type": "display_data",
     "data": {
      "text/plain": "                             nodeQuery  \\\n0  MATCH (c:Client) return id(c) as id   \n\n                                   relationshipQuery     graphName  nodeCount  \\\n0  MATCH (c:Client)-[:PERFORMED]->(t)-[:TO]->(c2:...  client_graph       2433   \n\n   relationshipCount  createMillis  \n0              19207            78  ",
      "text/html": "<div>\n<style scoped>\n    .dataframe tbody tr th:only-of-type {\n        vertical-align: middle;\n    }\n\n    .dataframe tbody tr th {\n        vertical-align: top;\n    }\n\n    .dataframe thead th {\n        text-align: right;\n    }\n</style>\n<table border=\"1\" class=\"dataframe\">\n  <thead>\n    <tr style=\"text-align: right;\">\n      <th></th>\n      <th>nodeQuery</th>\n      <th>relationshipQuery</th>\n      <th>graphName</th>\n      <th>nodeCount</th>\n      <th>relationshipCount</th>\n      <th>createMillis</th>\n    </tr>\n  </thead>\n  <tbody>\n    <tr>\n      <th>0</th>\n      <td>MATCH (c:Client) return id(c) as id</td>\n      <td>MATCH (c:Client)-[:PERFORMED]-&gt;(t)-[:TO]-&gt;(c2:...</td>\n      <td>client_graph</td>\n      <td>2433</td>\n      <td>19207</td>\n      <td>78</td>\n    </tr>\n  </tbody>\n</table>\n</div>"
     },
     "metadata": {}
    }
   ],
   "source": [
    "# Inmemory projection using cypher\n",
    "with driver.session(database = DB_NAME) as session:\n",
    "    result = session.read_transaction( lambda tx: \n",
    "        tx.run(\n",
    "        \"\"\"\n",
    "        CALL gds.graph.create.cypher(\n",
    "            'client_graph', \n",
    "            'MATCH (c:Client) return id(c) as id', \n",
    "            'MATCH (c:Client)-[:PERFORMED]->(t)-[:TO]->(c2:Client) return id(c) as source, id(c2) as target, sum(t.amount) as amount, \"TRANSACTED_WITH\" as type '\n",
    "        )\n",
    "        \"\"\"\n",
    "        ).data()\n",
    "    )\n",
    "    df = pd.DataFrame(result)\n",
    "    display(df)"
   ]
  },
  {
   "cell_type": "code",
   "execution_count": 36,
   "metadata": {},
   "outputs": [
    {
     "output_type": "display_data",
     "data": {
      "text/plain": "   modularity           modularities  ranLevels  communityCount  \\\n0    0.125449  [0.12544851695872442]          1             363   \n\n                               communityDistribution  postProcessingMillis  \\\n0  {'p99': 18, 'min': 1, 'max': 24, 'mean': 6.702...                     4   \n\n   createMillis  computeMillis  \\\n0             0            148   \n\n                                       configuration  \n0  {'maxIterations': 10, 'seedProperty': None, 'c...  ",
      "text/html": "<div>\n<style scoped>\n    .dataframe tbody tr th:only-of-type {\n        vertical-align: middle;\n    }\n\n    .dataframe tbody tr th {\n        vertical-align: top;\n    }\n\n    .dataframe thead th {\n        text-align: right;\n    }\n</style>\n<table border=\"1\" class=\"dataframe\">\n  <thead>\n    <tr style=\"text-align: right;\">\n      <th></th>\n      <th>modularity</th>\n      <th>modularities</th>\n      <th>ranLevels</th>\n      <th>communityCount</th>\n      <th>communityDistribution</th>\n      <th>postProcessingMillis</th>\n      <th>createMillis</th>\n      <th>computeMillis</th>\n      <th>configuration</th>\n    </tr>\n  </thead>\n  <tbody>\n    <tr>\n      <th>0</th>\n      <td>0.125449</td>\n      <td>[0.12544851695872442]</td>\n      <td>1</td>\n      <td>363</td>\n      <td>{'p99': 18, 'min': 1, 'max': 24, 'mean': 6.702...</td>\n      <td>4</td>\n      <td>0</td>\n      <td>148</td>\n      <td>{'maxIterations': 10, 'seedProperty': None, 'c...</td>\n    </tr>\n  </tbody>\n</table>\n</div>"
     },
     "metadata": {}
    }
   ],
   "source": [
    "# Louvain stats\n",
    "with driver.session(database = DB_NAME) as session:\n",
    "    result = session.read_transaction( lambda tx: \n",
    "        tx.run(\n",
    "        \"\"\"\n",
    "        CALL gds.louvain.stats('client_graph',{\n",
    "            nodeLabels:['Client'],\n",
    "            relationshipTypes:['TRANSACTED_WITH'],\n",
    "            consecutiveIds:true\n",
    "        })\n",
    "        \"\"\"\n",
    "        ).data()\n",
    "    )\n",
    "    df = pd.DataFrame(result)\n",
    "    display(df)"
   ]
  },
  {
   "cell_type": "code",
   "execution_count": 37,
   "metadata": {},
   "outputs": [
    {
     "output_type": "display_data",
     "data": {
      "text/plain": "   writeMillis  nodePropertiesWritten  modularity           modularities  \\\n0           49                   2433    0.124143  [0.12414251955230274]   \n\n   ranLevels  communityCount  \\\n0          1             398   \n\n                               communityDistribution  postProcessingMillis  \\\n0  {'p99': 18, 'min': 1, 'max': 23, 'mean': 6.113...                     4   \n\n   createMillis  computeMillis  \\\n0             0            149   \n\n                                       configuration  \n0  {'maxIterations': 10, 'writeConcurrency': 4, '...  ",
      "text/html": "<div>\n<style scoped>\n    .dataframe tbody tr th:only-of-type {\n        vertical-align: middle;\n    }\n\n    .dataframe tbody tr th {\n        vertical-align: top;\n    }\n\n    .dataframe thead th {\n        text-align: right;\n    }\n</style>\n<table border=\"1\" class=\"dataframe\">\n  <thead>\n    <tr style=\"text-align: right;\">\n      <th></th>\n      <th>writeMillis</th>\n      <th>nodePropertiesWritten</th>\n      <th>modularity</th>\n      <th>modularities</th>\n      <th>ranLevels</th>\n      <th>communityCount</th>\n      <th>communityDistribution</th>\n      <th>postProcessingMillis</th>\n      <th>createMillis</th>\n      <th>computeMillis</th>\n      <th>configuration</th>\n    </tr>\n  </thead>\n  <tbody>\n    <tr>\n      <th>0</th>\n      <td>49</td>\n      <td>2433</td>\n      <td>0.124143</td>\n      <td>[0.12414251955230274]</td>\n      <td>1</td>\n      <td>398</td>\n      <td>{'p99': 18, 'min': 1, 'max': 23, 'mean': 6.113...</td>\n      <td>4</td>\n      <td>0</td>\n      <td>149</td>\n      <td>{'maxIterations': 10, 'writeConcurrency': 4, '...</td>\n    </tr>\n  </tbody>\n</table>\n</div>"
     },
     "metadata": {}
    }
   ],
   "source": [
    "# Save louvain results\n",
    "with driver.session(database = DB_NAME) as session:\n",
    "    result = session.write_transaction( lambda tx: \n",
    "        tx.run(\n",
    "        \"\"\"\n",
    "        CALL gds.louvain.write('client_graph',{\n",
    "            nodeLabels:['Client'],\n",
    "            relationshipTypes:['TRANSACTED_WITH'],\n",
    "            consecutiveIds:true,\n",
    "            writeProperty:'LouvainCommunity'\n",
    "        })\n",
    "        \"\"\"\n",
    "        ).data()\n",
    "    )\n",
    "    df = pd.DataFrame(result)\n",
    "    display(df)"
   ]
  },
  {
   "cell_type": "code",
   "execution_count": 38,
   "metadata": {},
   "outputs": [
    {
     "output_type": "display_data",
     "data": {
      "text/plain": "   louvain_id  num_members  count_fraudsters  fraction_fraud\n0          94           13                 2        0.153846\n1          51           21                 2        0.095238\n2         181           11                 1        0.090909\n3          26           12                 1        0.083333\n4          65           12                 1        0.083333\n5          21           13                 1        0.076923\n6           4           16                 1        0.062500",
      "text/html": "<div>\n<style scoped>\n    .dataframe tbody tr th:only-of-type {\n        vertical-align: middle;\n    }\n\n    .dataframe tbody tr th {\n        vertical-align: top;\n    }\n\n    .dataframe thead th {\n        text-align: right;\n    }\n</style>\n<table border=\"1\" class=\"dataframe\">\n  <thead>\n    <tr style=\"text-align: right;\">\n      <th></th>\n      <th>louvain_id</th>\n      <th>num_members</th>\n      <th>count_fraudsters</th>\n      <th>fraction_fraud</th>\n    </tr>\n  </thead>\n  <tbody>\n    <tr>\n      <th>0</th>\n      <td>94</td>\n      <td>13</td>\n      <td>2</td>\n      <td>0.153846</td>\n    </tr>\n    <tr>\n      <th>1</th>\n      <td>51</td>\n      <td>21</td>\n      <td>2</td>\n      <td>0.095238</td>\n    </tr>\n    <tr>\n      <th>2</th>\n      <td>181</td>\n      <td>11</td>\n      <td>1</td>\n      <td>0.090909</td>\n    </tr>\n    <tr>\n      <th>3</th>\n      <td>26</td>\n      <td>12</td>\n      <td>1</td>\n      <td>0.083333</td>\n    </tr>\n    <tr>\n      <th>4</th>\n      <td>65</td>\n      <td>12</td>\n      <td>1</td>\n      <td>0.083333</td>\n    </tr>\n    <tr>\n      <th>5</th>\n      <td>21</td>\n      <td>13</td>\n      <td>1</td>\n      <td>0.076923</td>\n    </tr>\n    <tr>\n      <th>6</th>\n      <td>4</td>\n      <td>16</td>\n      <td>1</td>\n      <td>0.062500</td>\n    </tr>\n  </tbody>\n</table>\n</div>"
     },
     "metadata": {}
    }
   ],
   "source": [
    "# Find fraudlent communities ( louvain )\n",
    "with driver.session(database = DB_NAME) as session:\n",
    "    result = session.read_transaction( lambda tx: \n",
    "        tx.run(\n",
    "        \"\"\"\n",
    "        MATCH (c:Client) \n",
    "        WITH DISTINCT(c.LouvainCommunity) as louvain_id, count(c) as num_members\n",
    "        WHERE num_members > $cap\n",
    "        WITH louvain_id, num_members\n",
    "        MATCH (c:Client) WHERE c.is_fraudster=1 AND c.LouvainCommunity = louvain_id\n",
    "        WITH louvain_id, num_members, count(c) AS count_fraudsters\n",
    "        RETURN louvain_id, num_members,count_fraudsters, toFloat(count_fraudsters)/toFloat(num_members) AS fraction_fraud\n",
    "        ORDER BY fraction_fraud DESC\n",
    "        \"\"\",\n",
    "        cap = 10\n",
    "        ).data()\n",
    "    )\n",
    "    df = pd.DataFrame(result)\n",
    "    display(df)"
   ]
  },
  {
   "source": [
    "%%html\n",
    "<iframe src=\"http://localhost:7474/bloom/?search=ShowCommunity%2019&perspective=FraudPerspective&run=true\" width=\"1000\" height=\"600\"></iframe>"
   ],
   "cell_type": "code",
   "metadata": {},
   "execution_count": 39,
   "outputs": [
    {
     "output_type": "display_data",
     "data": {
      "text/plain": "<IPython.core.display.HTML object>",
      "text/html": "<iframe src=\"http://localhost:7474/bloom/?search=ShowCommunity%2019&perspective=FraudPerspective&run=true\" width=\"1000\" height=\"600\"></iframe>\n"
     },
     "metadata": {}
    }
   ]
  },
  {
   "cell_type": "code",
   "execution_count": 40,
   "metadata": {},
   "outputs": [
    {
     "output_type": "display_data",
     "data": {
      "text/plain": "   numberOfFlaggedInnocent\n0                       85",
      "text/html": "<div>\n<style scoped>\n    .dataframe tbody tr th:only-of-type {\n        vertical-align: middle;\n    }\n\n    .dataframe tbody tr th {\n        vertical-align: top;\n    }\n\n    .dataframe thead th {\n        text-align: right;\n    }\n</style>\n<table border=\"1\" class=\"dataframe\">\n  <thead>\n    <tr style=\"text-align: right;\">\n      <th></th>\n      <th>numberOfFlaggedInnocent</th>\n    </tr>\n  </thead>\n  <tbody>\n    <tr>\n      <th>0</th>\n      <td>85</td>\n    </tr>\n  </tbody>\n</table>\n</div>"
     },
     "metadata": {}
    }
   ],
   "source": [
    "# Flag the \"innocent\" ( Clients in communities with few flagged transactions )\n",
    "with driver.session(database = DB_NAME) as session:\n",
    "    result = session.write_transaction( lambda tx: \n",
    "        tx.run(\n",
    "        \"\"\"\n",
    "        MATCH (c:Client) \n",
    "        WITH DISTINCT(c.LouvainCommunity) as louvain_id, count(c) as num_members\n",
    "        WHERE num_members > 4\n",
    "        WITH louvain_id, num_members\n",
    "        MATCH (c:Client) WHERE c.is_fraudster=1 AND c.LouvainCommunity = louvain_id\n",
    "        WITH louvain_id, num_members, count(c) AS count_fraudsters\n",
    "        WITH louvain_id, num_members,count_fraudsters, toFloat(count_fraudsters)/toFloat(num_members) AS fraction_fraud\n",
    "        WHERE fraction_fraud < 0.1\n",
    "        MATCH (c:Client) WHERE c.LouvainCommunity=louvain_id\n",
    "        SET c.is_fraudster=0\n",
    "        return count(*) as numberOfFlaggedInnocent\n",
    "        \"\"\"\n",
    "        ).data()\n",
    "    )\n",
    "    df = pd.DataFrame(result)\n",
    "    display(df)"
   ]
  },
  {
   "cell_type": "code",
   "execution_count": 41,
   "metadata": {},
   "outputs": [
    {
     "output_type": "display_data",
     "data": {
      "text/plain": "   nodeCount  nodePropertiesWritten  createMillis  computeMillis  writeMillis  \\\n0       2433                   2433             0              4           42   \n\n                                       configuration  \n0  {'writeConcurrency': 4, 'normalizationStrength...  ",
      "text/html": "<div>\n<style scoped>\n    .dataframe tbody tr th:only-of-type {\n        vertical-align: middle;\n    }\n\n    .dataframe tbody tr th {\n        vertical-align: top;\n    }\n\n    .dataframe thead th {\n        text-align: right;\n    }\n</style>\n<table border=\"1\" class=\"dataframe\">\n  <thead>\n    <tr style=\"text-align: right;\">\n      <th></th>\n      <th>nodeCount</th>\n      <th>nodePropertiesWritten</th>\n      <th>createMillis</th>\n      <th>computeMillis</th>\n      <th>writeMillis</th>\n      <th>configuration</th>\n    </tr>\n  </thead>\n  <tbody>\n    <tr>\n      <th>0</th>\n      <td>2433</td>\n      <td>2433</td>\n      <td>0</td>\n      <td>4</td>\n      <td>42</td>\n      <td>{'writeConcurrency': 4, 'normalizationStrength...</td>\n    </tr>\n  </tbody>\n</table>\n</div>"
     },
     "metadata": {}
    }
   ],
   "source": [
    "# Create node embedding with FastRP\n",
    "with driver.session(database = DB_NAME) as session:\n",
    "    result = session.write_transaction( lambda tx: \n",
    "        tx.run(\n",
    "        \"\"\"\n",
    "        CALL gds.fastRP.write('client_graph',{\n",
    "            nodeLabels:['Client'],\n",
    "            relationshipTypes:['TRANSACTED_WITH'],\n",
    "            relationshipWeightProperty:'amount',\n",
    "            embeddingDimension:16, \n",
    "            writeProperty:'embedding'\n",
    "        })\n",
    "        \"\"\"\n",
    "        ).data()\n",
    "    )\n",
    "    df = pd.DataFrame(result)\n",
    "    display(df)"
   ]
  },
  {
   "cell_type": "code",
   "execution_count": 42,
   "metadata": {},
   "outputs": [
    {
     "output_type": "display_data",
     "data": {
      "text/plain": "                                             embedding  class\n0    [0.23165281116962433, 0.3253028690814972, -0.3...      0\n1    [0.35286635160446167, -0.031428925693035126, -...      0\n2    [-0.041578274220228195, 0.013647720217704773, ...      0\n3    [0.4832615852355957, 0.02432672306895256, 0.12...      1\n4    [0.5690793991088867, 0.18987847864627838, 0.53...      0\n..                                                 ...    ...\n109  [0.0, 0.0, 0.0, 0.0, 0.0, 0.0, 0.0, 0.0, 0.0, ...      0\n110  [0.0, 0.0, 0.0, 0.0, 0.0, 0.0, 0.0, 0.0, 0.0, ...      0\n111  [0.0, 0.0, 0.0, 0.0, 0.0, 0.0, 0.0, 0.0, 0.0, ...      0\n112  [0.0, 0.0, 0.0, 0.0, 0.0, 0.0, 0.0, 0.0, 0.0, ...      0\n113  [0.0, 0.0, 0.0, 0.0, 0.0, 0.0, 0.0, 0.0, 0.0, ...      0\n\n[114 rows x 2 columns]",
      "text/html": "<div>\n<style scoped>\n    .dataframe tbody tr th:only-of-type {\n        vertical-align: middle;\n    }\n\n    .dataframe tbody tr th {\n        vertical-align: top;\n    }\n\n    .dataframe thead th {\n        text-align: right;\n    }\n</style>\n<table border=\"1\" class=\"dataframe\">\n  <thead>\n    <tr style=\"text-align: right;\">\n      <th></th>\n      <th>embedding</th>\n      <th>class</th>\n    </tr>\n  </thead>\n  <tbody>\n    <tr>\n      <th>0</th>\n      <td>[0.23165281116962433, 0.3253028690814972, -0.3...</td>\n      <td>0</td>\n    </tr>\n    <tr>\n      <th>1</th>\n      <td>[0.35286635160446167, -0.031428925693035126, -...</td>\n      <td>0</td>\n    </tr>\n    <tr>\n      <th>2</th>\n      <td>[-0.041578274220228195, 0.013647720217704773, ...</td>\n      <td>0</td>\n    </tr>\n    <tr>\n      <th>3</th>\n      <td>[0.4832615852355957, 0.02432672306895256, 0.12...</td>\n      <td>1</td>\n    </tr>\n    <tr>\n      <th>4</th>\n      <td>[0.5690793991088867, 0.18987847864627838, 0.53...</td>\n      <td>0</td>\n    </tr>\n    <tr>\n      <th>...</th>\n      <td>...</td>\n      <td>...</td>\n    </tr>\n    <tr>\n      <th>109</th>\n      <td>[0.0, 0.0, 0.0, 0.0, 0.0, 0.0, 0.0, 0.0, 0.0, ...</td>\n      <td>0</td>\n    </tr>\n    <tr>\n      <th>110</th>\n      <td>[0.0, 0.0, 0.0, 0.0, 0.0, 0.0, 0.0, 0.0, 0.0, ...</td>\n      <td>0</td>\n    </tr>\n    <tr>\n      <th>111</th>\n      <td>[0.0, 0.0, 0.0, 0.0, 0.0, 0.0, 0.0, 0.0, 0.0, ...</td>\n      <td>0</td>\n    </tr>\n    <tr>\n      <th>112</th>\n      <td>[0.0, 0.0, 0.0, 0.0, 0.0, 0.0, 0.0, 0.0, 0.0, ...</td>\n      <td>0</td>\n    </tr>\n    <tr>\n      <th>113</th>\n      <td>[0.0, 0.0, 0.0, 0.0, 0.0, 0.0, 0.0, 0.0, 0.0, ...</td>\n      <td>0</td>\n    </tr>\n  </tbody>\n</table>\n<p>114 rows × 2 columns</p>\n</div>"
     },
     "metadata": {}
    }
   ],
   "source": [
    "# Define our model data and also get the node embeddings back to python\n",
    "with driver.session(database = DB_NAME) as session:\n",
    "    result = session.write_transaction( lambda tx: \n",
    "        tx.run(\n",
    "            \"\"\"\n",
    "            MATCH (c:Client) WHERE c.is_fraudster=0 OR c.is_fraudster=1\n",
    "            SET c:model_data\n",
    "            RETURN c.embedding as embedding, c.is_fraudster as class\n",
    "            \"\"\"\n",
    "        ).data()\n",
    "    )\n",
    "    df = pd.DataFrame(result)\n",
    "    display(df)\n",
    "    embedding = list(df['embedding'])\n",
    "    category = list(df['class'])\n",
    "    "
   ]
  },
  {
   "cell_type": "code",
   "execution_count": 43,
   "metadata": {},
   "outputs": [
    {
     "output_type": "stream",
     "name": "stdout",
     "text": [
      "[t-SNE] Computing 91 nearest neighbors...\n",
      "[t-SNE] Indexed 114 samples in 0.000s...\n",
      "[t-SNE] Computed neighbors for 114 samples in 0.003s...\n",
      "[t-SNE] Computed conditional probabilities for sample 114 / 114\n",
      "[t-SNE] Mean sigma: 0.653778\n",
      "[t-SNE] KL divergence after 250 iterations with early exaggeration: 70.599388\n",
      "[t-SNE] KL divergence after 1000 iterations: 0.586982\n"
     ]
    }
   ],
   "source": [
    "Y = TSNE(n_components=2, perplexity=30, n_iter= 1000, learning_rate=200.0, early_exaggeration=12.0, verbose=1).fit_transform(embedding)\n"
   ]
  },
  {
   "cell_type": "code",
   "execution_count": 44,
   "metadata": {},
   "outputs": [
    {
     "output_type": "display_data",
     "data": {
      "text/plain": "<Figure size 432x288 with 1 Axes>",
      "image/svg+xml": "<?xml version=\"1.0\" encoding=\"utf-8\" standalone=\"no\"?>\n<!DOCTYPE svg PUBLIC \"-//W3C//DTD SVG 1.1//EN\"\n  \"http://www.w3.org/Graphics/SVG/1.1/DTD/svg11.dtd\">\n<!-- Created with matplotlib (https://matplotlib.org/) -->\n<svg height=\"248.518125pt\" version=\"1.1\" viewBox=\"0 0 371.410293 248.518125\" width=\"371.410293pt\" xmlns=\"http://www.w3.org/2000/svg\" xmlns:xlink=\"http://www.w3.org/1999/xlink\">\n <metadata>\n  <rdf:RDF xmlns:cc=\"http://creativecommons.org/ns#\" xmlns:dc=\"http://purl.org/dc/elements/1.1/\" xmlns:rdf=\"http://www.w3.org/1999/02/22-rdf-syntax-ns#\">\n   <cc:Work>\n    <dc:type rdf:resource=\"http://purl.org/dc/dcmitype/StillImage\"/>\n    <dc:date>2021-06-10T11:38:14.028326</dc:date>\n    <dc:format>image/svg+xml</dc:format>\n    <dc:creator>\n     <cc:Agent>\n      <dc:title>Matplotlib v3.3.2, https://matplotlib.org/</dc:title>\n     </cc:Agent>\n    </dc:creator>\n   </cc:Work>\n  </rdf:RDF>\n </metadata>\n <defs>\n  <style type=\"text/css\">*{stroke-linecap:butt;stroke-linejoin:round;}</style>\n </defs>\n <g id=\"figure_1\">\n  <g id=\"patch_1\">\n   <path d=\"M 0 248.518125 \nL 371.410293 248.518125 \nL 371.410293 0 \nL 0 0 \nz\n\" style=\"fill:none;\"/>\n  </g>\n  <g id=\"axes_1\">\n   <g id=\"patch_2\">\n    <path d=\"M 28.942188 224.64 \nL 363.742188 224.64 \nL 363.742188 7.2 \nL 28.942188 7.2 \nz\n\" style=\"fill:#ffffff;\"/>\n   </g>\n   <g id=\"PathCollection_1\">\n    <defs>\n     <path d=\"M 0 3 \nC 0.795609 3 1.55874 2.683901 2.12132 2.12132 \nC 2.683901 1.55874 3 0.795609 3 0 \nC 3 -0.795609 2.683901 -1.55874 2.12132 -2.12132 \nC 1.55874 -2.683901 0.795609 -3 0 -3 \nC -0.795609 -3 -1.55874 -2.683901 -2.12132 -2.12132 \nC -2.683901 -1.55874 -3 -0.795609 -3 0 \nC -3 0.795609 -2.683901 1.55874 -2.12132 2.12132 \nC -1.55874 2.683901 -0.795609 3 0 3 \nz\n\" id=\"m8fc80c1aed\" style=\"stroke:#0000ff;\"/>\n    </defs>\n    <g clip-path=\"url(#p6ca706fa92)\">\n     <use style=\"fill:#0000ff;stroke:#0000ff;\" x=\"109.159296\" xlink:href=\"#m8fc80c1aed\" y=\"90.548581\"/>\n    </g>\n   </g>\n   <g id=\"PathCollection_2\">\n    <g clip-path=\"url(#p6ca706fa92)\">\n     <use style=\"fill:#0000ff;stroke:#0000ff;\" x=\"127.004598\" xlink:href=\"#m8fc80c1aed\" y=\"129.620445\"/>\n    </g>\n   </g>\n   <g id=\"PathCollection_3\">\n    <g clip-path=\"url(#p6ca706fa92)\">\n     <use style=\"fill:#0000ff;stroke:#0000ff;\" x=\"84.974556\" xlink:href=\"#m8fc80c1aed\" y=\"155.381479\"/>\n    </g>\n   </g>\n   <g id=\"PathCollection_4\">\n    <defs>\n     <path d=\"M 0 3 \nC 0.795609 3 1.55874 2.683901 2.12132 2.12132 \nC 2.683901 1.55874 3 0.795609 3 0 \nC 3 -0.795609 2.683901 -1.55874 2.12132 -2.12132 \nC 1.55874 -2.683901 0.795609 -3 0 -3 \nC -0.795609 -3 -1.55874 -2.683901 -2.12132 -2.12132 \nC -2.683901 -1.55874 -3 -0.795609 -3 0 \nC -3 0.795609 -2.683901 1.55874 -2.12132 2.12132 \nC -1.55874 2.683901 -0.795609 3 0 3 \nz\n\" id=\"md70232316a\" style=\"stroke:#ff0000;\"/>\n    </defs>\n    <g clip-path=\"url(#p6ca706fa92)\">\n     <use style=\"fill:#ff0000;stroke:#ff0000;\" x=\"83.769254\" xlink:href=\"#md70232316a\" y=\"120.556279\"/>\n    </g>\n   </g>\n   <g id=\"PathCollection_5\">\n    <g clip-path=\"url(#p6ca706fa92)\">\n     <use style=\"fill:#0000ff;stroke:#0000ff;\" x=\"190.114257\" xlink:href=\"#m8fc80c1aed\" y=\"17.016446\"/>\n    </g>\n   </g>\n   <g id=\"PathCollection_6\">\n    <g clip-path=\"url(#p6ca706fa92)\">\n     <use style=\"fill:#0000ff;stroke:#0000ff;\" x=\"84.752611\" xlink:href=\"#m8fc80c1aed\" y=\"122.684064\"/>\n    </g>\n   </g>\n   <g id=\"PathCollection_7\">\n    <g clip-path=\"url(#p6ca706fa92)\">\n     <use style=\"fill:#ff0000;stroke:#ff0000;\" x=\"167.602314\" xlink:href=\"#md70232316a\" y=\"114.128843\"/>\n    </g>\n   </g>\n   <g id=\"PathCollection_8\">\n    <g clip-path=\"url(#p6ca706fa92)\">\n     <use style=\"fill:#ff0000;stroke:#ff0000;\" x=\"205.534534\" xlink:href=\"#md70232316a\" y=\"46.864312\"/>\n    </g>\n   </g>\n   <g id=\"PathCollection_9\">\n    <g clip-path=\"url(#p6ca706fa92)\">\n     <use style=\"fill:#0000ff;stroke:#0000ff;\" x=\"285.422804\" xlink:href=\"#m8fc80c1aed\" y=\"22.593444\"/>\n    </g>\n   </g>\n   <g id=\"PathCollection_10\">\n    <g clip-path=\"url(#p6ca706fa92)\">\n     <use style=\"fill:#ff0000;stroke:#ff0000;\" x=\"218.437113\" xlink:href=\"#md70232316a\" y=\"28.629892\"/>\n    </g>\n   </g>\n   <g id=\"PathCollection_11\">\n    <g clip-path=\"url(#p6ca706fa92)\">\n     <use style=\"fill:#0000ff;stroke:#0000ff;\" x=\"107.227265\" xlink:href=\"#m8fc80c1aed\" y=\"37.452679\"/>\n    </g>\n   </g>\n   <g id=\"PathCollection_12\">\n    <g clip-path=\"url(#p6ca706fa92)\">\n     <use style=\"fill:#0000ff;stroke:#0000ff;\" x=\"145.643218\" xlink:href=\"#m8fc80c1aed\" y=\"70.968434\"/>\n    </g>\n   </g>\n   <g id=\"PathCollection_13\">\n    <g clip-path=\"url(#p6ca706fa92)\">\n     <use style=\"fill:#0000ff;stroke:#0000ff;\" x=\"181.331188\" xlink:href=\"#m8fc80c1aed\" y=\"224.641416\"/>\n    </g>\n   </g>\n   <g id=\"PathCollection_14\">\n    <g clip-path=\"url(#p6ca706fa92)\">\n     <use style=\"fill:#0000ff;stroke:#0000ff;\" x=\"277.293574\" xlink:href=\"#m8fc80c1aed\" y=\"151.088251\"/>\n    </g>\n   </g>\n   <g id=\"PathCollection_15\">\n    <g clip-path=\"url(#p6ca706fa92)\">\n     <use style=\"fill:#ff0000;stroke:#ff0000;\" x=\"120.558937\" xlink:href=\"#md70232316a\" y=\"186.984232\"/>\n    </g>\n   </g>\n   <g id=\"PathCollection_16\">\n    <g clip-path=\"url(#p6ca706fa92)\">\n     <use style=\"fill:#0000ff;stroke:#0000ff;\" x=\"283.673779\" xlink:href=\"#m8fc80c1aed\" y=\"76.604119\"/>\n    </g>\n   </g>\n   <g id=\"PathCollection_17\">\n    <g clip-path=\"url(#p6ca706fa92)\">\n     <use style=\"fill:#0000ff;stroke:#0000ff;\" x=\"212.925207\" xlink:href=\"#m8fc80c1aed\" y=\"169.472202\"/>\n    </g>\n   </g>\n   <g id=\"PathCollection_18\">\n    <g clip-path=\"url(#p6ca706fa92)\">\n     <use style=\"fill:#ff0000;stroke:#ff0000;\" x=\"106.278771\" xlink:href=\"#md70232316a\" y=\"34.183039\"/>\n    </g>\n   </g>\n   <g id=\"PathCollection_19\">\n    <g clip-path=\"url(#p6ca706fa92)\">\n     <use style=\"fill:#0000ff;stroke:#0000ff;\" x=\"28.940209\" xlink:href=\"#m8fc80c1aed\" y=\"123.890281\"/>\n    </g>\n   </g>\n   <g id=\"PathCollection_20\">\n    <g clip-path=\"url(#p6ca706fa92)\">\n     <use style=\"fill:#0000ff;stroke:#0000ff;\" x=\"112.342604\" xlink:href=\"#m8fc80c1aed\" y=\"165.919794\"/>\n    </g>\n   </g>\n   <g id=\"PathCollection_21\">\n    <g clip-path=\"url(#p6ca706fa92)\">\n     <use style=\"fill:#0000ff;stroke:#0000ff;\" x=\"267.925274\" xlink:href=\"#m8fc80c1aed\" y=\"172.246711\"/>\n    </g>\n   </g>\n   <g id=\"PathCollection_22\">\n    <g clip-path=\"url(#p6ca706fa92)\">\n     <use style=\"fill:#ff0000;stroke:#ff0000;\" x=\"300.822189\" xlink:href=\"#md70232316a\" y=\"135.692415\"/>\n    </g>\n   </g>\n   <g id=\"PathCollection_23\">\n    <g clip-path=\"url(#p6ca706fa92)\">\n     <use style=\"fill:#0000ff;stroke:#0000ff;\" x=\"104.076098\" xlink:href=\"#m8fc80c1aed\" y=\"73.578165\"/>\n    </g>\n   </g>\n   <g id=\"PathCollection_24\">\n    <g clip-path=\"url(#p6ca706fa92)\">\n     <use style=\"fill:#ff0000;stroke:#ff0000;\" x=\"104.668947\" xlink:href=\"#md70232316a\" y=\"88.38898\"/>\n    </g>\n   </g>\n   <g id=\"PathCollection_25\">\n    <g clip-path=\"url(#p6ca706fa92)\">\n     <use style=\"fill:#0000ff;stroke:#0000ff;\" x=\"193.945155\" xlink:href=\"#m8fc80c1aed\" y=\"147.029857\"/>\n    </g>\n   </g>\n   <g id=\"PathCollection_26\">\n    <g clip-path=\"url(#p6ca706fa92)\">\n     <use style=\"fill:#ff0000;stroke:#ff0000;\" x=\"330.358118\" xlink:href=\"#md70232316a\" y=\"142.026076\"/>\n    </g>\n   </g>\n   <g id=\"PathCollection_27\">\n    <g clip-path=\"url(#p6ca706fa92)\">\n     <use style=\"fill:#0000ff;stroke:#0000ff;\" x=\"191.991476\" xlink:href=\"#m8fc80c1aed\" y=\"176.117932\"/>\n    </g>\n   </g>\n   <g id=\"PathCollection_28\">\n    <g clip-path=\"url(#p6ca706fa92)\">\n     <use style=\"fill:#ff0000;stroke:#ff0000;\" x=\"169.199622\" xlink:href=\"#md70232316a\" y=\"34.079442\"/>\n    </g>\n   </g>\n   <g id=\"PathCollection_29\">\n    <g clip-path=\"url(#p6ca706fa92)\">\n     <use style=\"fill:#0000ff;stroke:#0000ff;\" x=\"288.719519\" xlink:href=\"#m8fc80c1aed\" y=\"95.148516\"/>\n    </g>\n   </g>\n   <g id=\"PathCollection_30\">\n    <g clip-path=\"url(#p6ca706fa92)\">\n     <use style=\"fill:#0000ff;stroke:#0000ff;\" x=\"92.981018\" xlink:href=\"#m8fc80c1aed\" y=\"48.511627\"/>\n    </g>\n   </g>\n   <g id=\"PathCollection_31\">\n    <g clip-path=\"url(#p6ca706fa92)\">\n     <use style=\"fill:#ff0000;stroke:#ff0000;\" x=\"147.557761\" xlink:href=\"#md70232316a\" y=\"159.252545\"/>\n    </g>\n   </g>\n   <g id=\"PathCollection_32\">\n    <g clip-path=\"url(#p6ca706fa92)\">\n     <use style=\"fill:#ff0000;stroke:#ff0000;\" x=\"235.389212\" xlink:href=\"#md70232316a\" y=\"144.262962\"/>\n    </g>\n   </g>\n   <g id=\"PathCollection_33\">\n    <g clip-path=\"url(#p6ca706fa92)\">\n     <use style=\"fill:#0000ff;stroke:#0000ff;\" x=\"167.923673\" xlink:href=\"#m8fc80c1aed\" y=\"124.1551\"/>\n    </g>\n   </g>\n   <g id=\"PathCollection_34\">\n    <g clip-path=\"url(#p6ca706fa92)\">\n     <use style=\"fill:#0000ff;stroke:#0000ff;\" x=\"257.98805\" xlink:href=\"#m8fc80c1aed\" y=\"65.734116\"/>\n    </g>\n   </g>\n   <g id=\"PathCollection_35\">\n    <g clip-path=\"url(#p6ca706fa92)\">\n     <use style=\"fill:#ff0000;stroke:#ff0000;\" x=\"117.323446\" xlink:href=\"#md70232316a\" y=\"113.195439\"/>\n    </g>\n   </g>\n   <g id=\"PathCollection_36\">\n    <g clip-path=\"url(#p6ca706fa92)\">\n     <use style=\"fill:#0000ff;stroke:#0000ff;\" x=\"165.603832\" xlink:href=\"#m8fc80c1aed\" y=\"49.691556\"/>\n    </g>\n   </g>\n   <g id=\"PathCollection_37\">\n    <g clip-path=\"url(#p6ca706fa92)\">\n     <use style=\"fill:#ff0000;stroke:#ff0000;\" x=\"182.817357\" xlink:href=\"#md70232316a\" y=\"70.008996\"/>\n    </g>\n   </g>\n   <g id=\"PathCollection_38\">\n    <g clip-path=\"url(#p6ca706fa92)\">\n     <use style=\"fill:#0000ff;stroke:#0000ff;\" x=\"215.58257\" xlink:href=\"#m8fc80c1aed\" y=\"107.387576\"/>\n    </g>\n   </g>\n   <g id=\"PathCollection_39\">\n    <g clip-path=\"url(#p6ca706fa92)\">\n     <use style=\"fill:#0000ff;stroke:#0000ff;\" x=\"215.582603\" xlink:href=\"#m8fc80c1aed\" y=\"107.386588\"/>\n    </g>\n   </g>\n   <g id=\"PathCollection_40\">\n    <g clip-path=\"url(#p6ca706fa92)\">\n     <use style=\"fill:#ff0000;stroke:#ff0000;\" x=\"280.019271\" xlink:href=\"#md70232316a\" y=\"177.14808\"/>\n    </g>\n   </g>\n   <g id=\"PathCollection_41\">\n    <g clip-path=\"url(#p6ca706fa92)\">\n     <use style=\"fill:#ff0000;stroke:#ff0000;\" x=\"164.396268\" xlink:href=\"#md70232316a\" y=\"198.932927\"/>\n    </g>\n   </g>\n   <g id=\"PathCollection_42\">\n    <g clip-path=\"url(#p6ca706fa92)\">\n     <use style=\"fill:#0000ff;stroke:#0000ff;\" x=\"165.316103\" xlink:href=\"#m8fc80c1aed\" y=\"146.587478\"/>\n    </g>\n   </g>\n   <g id=\"PathCollection_43\">\n    <g clip-path=\"url(#p6ca706fa92)\">\n     <use style=\"fill:#0000ff;stroke:#0000ff;\" x=\"325.43624\" xlink:href=\"#m8fc80c1aed\" y=\"75.271663\"/>\n    </g>\n   </g>\n   <g id=\"PathCollection_44\">\n    <g clip-path=\"url(#p6ca706fa92)\">\n     <use style=\"fill:#0000ff;stroke:#0000ff;\" x=\"160.587021\" xlink:href=\"#m8fc80c1aed\" y=\"118.878666\"/>\n    </g>\n   </g>\n   <g id=\"PathCollection_45\">\n    <g clip-path=\"url(#p6ca706fa92)\">\n     <use style=\"fill:#0000ff;stroke:#0000ff;\" x=\"348.698295\" xlink:href=\"#m8fc80c1aed\" y=\"93.629464\"/>\n    </g>\n   </g>\n   <g id=\"PathCollection_46\">\n    <g clip-path=\"url(#p6ca706fa92)\">\n     <use style=\"fill:#ff0000;stroke:#ff0000;\" x=\"76.759214\" xlink:href=\"#md70232316a\" y=\"145.982489\"/>\n    </g>\n   </g>\n   <g id=\"PathCollection_47\">\n    <g clip-path=\"url(#p6ca706fa92)\">\n     <use style=\"fill:#ff0000;stroke:#ff0000;\" x=\"94.104568\" xlink:href=\"#md70232316a\" y=\"41.062449\"/>\n    </g>\n   </g>\n   <g id=\"PathCollection_48\">\n    <g clip-path=\"url(#p6ca706fa92)\">\n     <use style=\"fill:#ff0000;stroke:#ff0000;\" x=\"169.649169\" xlink:href=\"#md70232316a\" y=\"147.352808\"/>\n    </g>\n   </g>\n   <g id=\"PathCollection_49\">\n    <g clip-path=\"url(#p6ca706fa92)\">\n     <use style=\"fill:#ff0000;stroke:#ff0000;\" x=\"208.368335\" xlink:href=\"#md70232316a\" y=\"69.646074\"/>\n    </g>\n   </g>\n   <g id=\"PathCollection_50\">\n    <g clip-path=\"url(#p6ca706fa92)\">\n     <use style=\"fill:#ff0000;stroke:#ff0000;\" x=\"56.641561\" xlink:href=\"#md70232316a\" y=\"100.2368\"/>\n    </g>\n   </g>\n   <g id=\"PathCollection_51\">\n    <g clip-path=\"url(#p6ca706fa92)\">\n     <use style=\"fill:#0000ff;stroke:#0000ff;\" x=\"303.516623\" xlink:href=\"#m8fc80c1aed\" y=\"44.698555\"/>\n    </g>\n   </g>\n   <g id=\"PathCollection_52\">\n    <g clip-path=\"url(#p6ca706fa92)\">\n     <use style=\"fill:#0000ff;stroke:#0000ff;\" x=\"225.190693\" xlink:href=\"#m8fc80c1aed\" y=\"76.237464\"/>\n    </g>\n   </g>\n   <g id=\"PathCollection_53\">\n    <g clip-path=\"url(#p6ca706fa92)\">\n     <use style=\"fill:#ff0000;stroke:#ff0000;\" x=\"158.498249\" xlink:href=\"#md70232316a\" y=\"95.386604\"/>\n    </g>\n   </g>\n   <g id=\"PathCollection_54\">\n    <g clip-path=\"url(#p6ca706fa92)\">\n     <use style=\"fill:#0000ff;stroke:#0000ff;\" x=\"244.079132\" xlink:href=\"#m8fc80c1aed\" y=\"58.084899\"/>\n    </g>\n   </g>\n   <g id=\"PathCollection_55\">\n    <g clip-path=\"url(#p6ca706fa92)\">\n     <use style=\"fill:#ff0000;stroke:#ff0000;\" x=\"106.324505\" xlink:href=\"#md70232316a\" y=\"87.582645\"/>\n    </g>\n   </g>\n   <g id=\"PathCollection_56\">\n    <g clip-path=\"url(#p6ca706fa92)\">\n     <use style=\"fill:#0000ff;stroke:#0000ff;\" x=\"150.660925\" xlink:href=\"#m8fc80c1aed\" y=\"205.779161\"/>\n    </g>\n   </g>\n   <g id=\"PathCollection_57\">\n    <g clip-path=\"url(#p6ca706fa92)\">\n     <use style=\"fill:#ff0000;stroke:#ff0000;\" x=\"117.586312\" xlink:href=\"#md70232316a\" y=\"138.867413\"/>\n    </g>\n   </g>\n   <g id=\"PathCollection_58\">\n    <g clip-path=\"url(#p6ca706fa92)\">\n     <use style=\"fill:#0000ff;stroke:#0000ff;\" x=\"113.043468\" xlink:href=\"#m8fc80c1aed\" y=\"175.16198\"/>\n    </g>\n   </g>\n   <g id=\"PathCollection_59\">\n    <g clip-path=\"url(#p6ca706fa92)\">\n     <use style=\"fill:#0000ff;stroke:#0000ff;\" x=\"168.736193\" xlink:href=\"#m8fc80c1aed\" y=\"219.835607\"/>\n    </g>\n   </g>\n   <g id=\"PathCollection_60\">\n    <g clip-path=\"url(#p6ca706fa92)\">\n     <use style=\"fill:#ff0000;stroke:#ff0000;\" x=\"71.161545\" xlink:href=\"#md70232316a\" y=\"44.864495\"/>\n    </g>\n   </g>\n   <g id=\"PathCollection_61\">\n    <g clip-path=\"url(#p6ca706fa92)\">\n     <use style=\"fill:#0000ff;stroke:#0000ff;\" x=\"295.994176\" xlink:href=\"#m8fc80c1aed\" y=\"133.05065\"/>\n    </g>\n   </g>\n   <g id=\"PathCollection_62\">\n    <g clip-path=\"url(#p6ca706fa92)\">\n     <use style=\"fill:#0000ff;stroke:#0000ff;\" x=\"148.208565\" xlink:href=\"#m8fc80c1aed\" y=\"73.778475\"/>\n    </g>\n   </g>\n   <g id=\"PathCollection_63\">\n    <g clip-path=\"url(#p6ca706fa92)\">\n     <use style=\"fill:#0000ff;stroke:#0000ff;\" x=\"245.593209\" xlink:href=\"#m8fc80c1aed\" y=\"195.146994\"/>\n    </g>\n   </g>\n   <g id=\"PathCollection_64\">\n    <g clip-path=\"url(#p6ca706fa92)\">\n     <use style=\"fill:#ff0000;stroke:#ff0000;\" x=\"192.648498\" xlink:href=\"#md70232316a\" y=\"132.303008\"/>\n    </g>\n   </g>\n   <g id=\"PathCollection_65\">\n    <g clip-path=\"url(#p6ca706fa92)\">\n     <use style=\"fill:#0000ff;stroke:#0000ff;\" x=\"270.834708\" xlink:href=\"#m8fc80c1aed\" y=\"176.849154\"/>\n    </g>\n   </g>\n   <g id=\"PathCollection_66\">\n    <g clip-path=\"url(#p6ca706fa92)\">\n     <use style=\"fill:#ff0000;stroke:#ff0000;\" x=\"138.791668\" xlink:href=\"#md70232316a\" y=\"64.788094\"/>\n    </g>\n   </g>\n   <g id=\"PathCollection_67\">\n    <g clip-path=\"url(#p6ca706fa92)\">\n     <use style=\"fill:#0000ff;stroke:#0000ff;\" x=\"184.116386\" xlink:href=\"#m8fc80c1aed\" y=\"80.092566\"/>\n    </g>\n   </g>\n   <g id=\"PathCollection_68\">\n    <g clip-path=\"url(#p6ca706fa92)\">\n     <use style=\"fill:#0000ff;stroke:#0000ff;\" x=\"336.369433\" xlink:href=\"#m8fc80c1aed\" y=\"105.633934\"/>\n    </g>\n   </g>\n   <g id=\"PathCollection_69\">\n    <g clip-path=\"url(#p6ca706fa92)\">\n     <use style=\"fill:#0000ff;stroke:#0000ff;\" x=\"238.963783\" xlink:href=\"#m8fc80c1aed\" y=\"59.210284\"/>\n    </g>\n   </g>\n   <g id=\"PathCollection_70\">\n    <g clip-path=\"url(#p6ca706fa92)\">\n     <use style=\"fill:#0000ff;stroke:#0000ff;\" x=\"216.61763\" xlink:href=\"#m8fc80c1aed\" y=\"219.32437\"/>\n    </g>\n   </g>\n   <g id=\"PathCollection_71\">\n    <g clip-path=\"url(#p6ca706fa92)\">\n     <use style=\"fill:#0000ff;stroke:#0000ff;\" x=\"166.564098\" xlink:href=\"#m8fc80c1aed\" y=\"186.081599\"/>\n    </g>\n   </g>\n   <g id=\"PathCollection_72\">\n    <g clip-path=\"url(#p6ca706fa92)\">\n     <use style=\"fill:#0000ff;stroke:#0000ff;\" x=\"51.45451\" xlink:href=\"#m8fc80c1aed\" y=\"102.34803\"/>\n    </g>\n   </g>\n   <g id=\"PathCollection_73\">\n    <g clip-path=\"url(#p6ca706fa92)\">\n     <use style=\"fill:#0000ff;stroke:#0000ff;\" x=\"363.740209\" xlink:href=\"#m8fc80c1aed\" y=\"88.306734\"/>\n    </g>\n   </g>\n   <g id=\"PathCollection_74\">\n    <g clip-path=\"url(#p6ca706fa92)\">\n     <use style=\"fill:#ff0000;stroke:#ff0000;\" x=\"213.845222\" xlink:href=\"#md70232316a\" y=\"145.602204\"/>\n    </g>\n   </g>\n   <g id=\"PathCollection_75\">\n    <g clip-path=\"url(#p6ca706fa92)\">\n     <use style=\"fill:#0000ff;stroke:#0000ff;\" x=\"220.379892\" xlink:href=\"#m8fc80c1aed\" y=\"188.039174\"/>\n    </g>\n   </g>\n   <g id=\"PathCollection_76\">\n    <g clip-path=\"url(#p6ca706fa92)\">\n     <use style=\"fill:#0000ff;stroke:#0000ff;\" x=\"288.721831\" xlink:href=\"#m8fc80c1aed\" y=\"26.269601\"/>\n    </g>\n   </g>\n   <g id=\"PathCollection_77\">\n    <g clip-path=\"url(#p6ca706fa92)\">\n     <use style=\"fill:#0000ff;stroke:#0000ff;\" x=\"253.837129\" xlink:href=\"#m8fc80c1aed\" y=\"92.745701\"/>\n    </g>\n   </g>\n   <g id=\"PathCollection_78\">\n    <g clip-path=\"url(#p6ca706fa92)\">\n     <use style=\"fill:#0000ff;stroke:#0000ff;\" x=\"211.295718\" xlink:href=\"#m8fc80c1aed\" y=\"197.015623\"/>\n    </g>\n   </g>\n   <g id=\"PathCollection_79\">\n    <g clip-path=\"url(#p6ca706fa92)\">\n     <use style=\"fill:#0000ff;stroke:#0000ff;\" x=\"178.555568\" xlink:href=\"#m8fc80c1aed\" y=\"99.578633\"/>\n    </g>\n   </g>\n   <g id=\"PathCollection_80\">\n    <g clip-path=\"url(#p6ca706fa92)\">\n     <use style=\"fill:#0000ff;stroke:#0000ff;\" x=\"268.925584\" xlink:href=\"#m8fc80c1aed\" y=\"68.345794\"/>\n    </g>\n   </g>\n   <g id=\"PathCollection_81\">\n    <g clip-path=\"url(#p6ca706fa92)\">\n     <use style=\"fill:#0000ff;stroke:#0000ff;\" x=\"277.438339\" xlink:href=\"#m8fc80c1aed\" y=\"36.031543\"/>\n    </g>\n   </g>\n   <g id=\"PathCollection_82\">\n    <g clip-path=\"url(#p6ca706fa92)\">\n     <use style=\"fill:#0000ff;stroke:#0000ff;\" x=\"216.275554\" xlink:href=\"#m8fc80c1aed\" y=\"140.211737\"/>\n    </g>\n   </g>\n   <g id=\"PathCollection_83\">\n    <g clip-path=\"url(#p6ca706fa92)\">\n     <use style=\"fill:#0000ff;stroke:#0000ff;\" x=\"203.011872\" xlink:href=\"#m8fc80c1aed\" y=\"220.169128\"/>\n    </g>\n   </g>\n   <g id=\"PathCollection_84\">\n    <g clip-path=\"url(#p6ca706fa92)\">\n     <use style=\"fill:#0000ff;stroke:#0000ff;\" x=\"149.779439\" xlink:href=\"#m8fc80c1aed\" y=\"10.009176\"/>\n    </g>\n   </g>\n   <g id=\"PathCollection_85\">\n    <g clip-path=\"url(#p6ca706fa92)\">\n     <use style=\"fill:#0000ff;stroke:#0000ff;\" x=\"272.24555\" xlink:href=\"#m8fc80c1aed\" y=\"110.866892\"/>\n    </g>\n   </g>\n   <g id=\"PathCollection_86\">\n    <g clip-path=\"url(#p6ca706fa92)\">\n     <use style=\"fill:#0000ff;stroke:#0000ff;\" x=\"306.408808\" xlink:href=\"#m8fc80c1aed\" y=\"54.328279\"/>\n    </g>\n   </g>\n   <g id=\"PathCollection_87\">\n    <g clip-path=\"url(#p6ca706fa92)\">\n     <use style=\"fill:#0000ff;stroke:#0000ff;\" x=\"267.763816\" xlink:href=\"#m8fc80c1aed\" y=\"102.742267\"/>\n    </g>\n   </g>\n   <g id=\"PathCollection_88\">\n    <g clip-path=\"url(#p6ca706fa92)\">\n     <use style=\"fill:#0000ff;stroke:#0000ff;\" x=\"215.584056\" xlink:href=\"#m8fc80c1aed\" y=\"107.38749\"/>\n    </g>\n   </g>\n   <g id=\"PathCollection_89\">\n    <g clip-path=\"url(#p6ca706fa92)\">\n     <use style=\"fill:#0000ff;stroke:#0000ff;\" x=\"350.013772\" xlink:href=\"#m8fc80c1aed\" y=\"135.169656\"/>\n    </g>\n   </g>\n   <g id=\"PathCollection_90\">\n    <g clip-path=\"url(#p6ca706fa92)\">\n     <use style=\"fill:#0000ff;stroke:#0000ff;\" x=\"298.22428\" xlink:href=\"#m8fc80c1aed\" y=\"103.3374\"/>\n    </g>\n   </g>\n   <g id=\"PathCollection_91\">\n    <g clip-path=\"url(#p6ca706fa92)\">\n     <use style=\"fill:#0000ff;stroke:#0000ff;\" x=\"155.131635\" xlink:href=\"#m8fc80c1aed\" y=\"7.201416\"/>\n    </g>\n   </g>\n   <g id=\"PathCollection_92\">\n    <g clip-path=\"url(#p6ca706fa92)\">\n     <use style=\"fill:#0000ff;stroke:#0000ff;\" x=\"267.630083\" xlink:href=\"#m8fc80c1aed\" y=\"138.772376\"/>\n    </g>\n   </g>\n   <g id=\"PathCollection_93\">\n    <g clip-path=\"url(#p6ca706fa92)\">\n     <use style=\"fill:#0000ff;stroke:#0000ff;\" x=\"31.485934\" xlink:href=\"#m8fc80c1aed\" y=\"122.198548\"/>\n    </g>\n   </g>\n   <g id=\"PathCollection_94\">\n    <g clip-path=\"url(#p6ca706fa92)\">\n     <use style=\"fill:#0000ff;stroke:#0000ff;\" x=\"206.74573\" xlink:href=\"#m8fc80c1aed\" y=\"72.797608\"/>\n    </g>\n   </g>\n   <g id=\"PathCollection_95\">\n    <g clip-path=\"url(#p6ca706fa92)\">\n     <use style=\"fill:#0000ff;stroke:#0000ff;\" x=\"213.723969\" xlink:href=\"#m8fc80c1aed\" y=\"26.369117\"/>\n    </g>\n   </g>\n   <g id=\"PathCollection_96\">\n    <g clip-path=\"url(#p6ca706fa92)\">\n     <use style=\"fill:#0000ff;stroke:#0000ff;\" x=\"250.942265\" xlink:href=\"#m8fc80c1aed\" y=\"124.355915\"/>\n    </g>\n   </g>\n   <g id=\"PathCollection_97\">\n    <g clip-path=\"url(#p6ca706fa92)\">\n     <use style=\"fill:#0000ff;stroke:#0000ff;\" x=\"356.791119\" xlink:href=\"#m8fc80c1aed\" y=\"91.651851\"/>\n    </g>\n   </g>\n   <g id=\"PathCollection_98\">\n    <g clip-path=\"url(#p6ca706fa92)\">\n     <use style=\"fill:#0000ff;stroke:#0000ff;\" x=\"147.567274\" xlink:href=\"#m8fc80c1aed\" y=\"119.701551\"/>\n    </g>\n   </g>\n   <g id=\"PathCollection_99\">\n    <g clip-path=\"url(#p6ca706fa92)\">\n     <use style=\"fill:#0000ff;stroke:#0000ff;\" x=\"215.562334\" xlink:href=\"#m8fc80c1aed\" y=\"107.38534\"/>\n    </g>\n   </g>\n   <g id=\"PathCollection_100\">\n    <g clip-path=\"url(#p6ca706fa92)\">\n     <use style=\"fill:#0000ff;stroke:#0000ff;\" x=\"215.58265\" xlink:href=\"#m8fc80c1aed\" y=\"107.38659\"/>\n    </g>\n   </g>\n   <g id=\"PathCollection_101\">\n    <g clip-path=\"url(#p6ca706fa92)\">\n     <use style=\"fill:#0000ff;stroke:#0000ff;\" x=\"348.993278\" xlink:href=\"#m8fc80c1aed\" y=\"136.504827\"/>\n    </g>\n   </g>\n   <g id=\"PathCollection_102\">\n    <g clip-path=\"url(#p6ca706fa92)\">\n     <use style=\"fill:#ff0000;stroke:#ff0000;\" x=\"252.708767\" xlink:href=\"#md70232316a\" y=\"130.993919\"/>\n    </g>\n   </g>\n   <g id=\"PathCollection_103\">\n    <g clip-path=\"url(#p6ca706fa92)\">\n     <use style=\"fill:#0000ff;stroke:#0000ff;\" x=\"215.582584\" xlink:href=\"#m8fc80c1aed\" y=\"107.387586\"/>\n    </g>\n   </g>\n   <g id=\"PathCollection_104\">\n    <g clip-path=\"url(#p6ca706fa92)\">\n     <use style=\"fill:#0000ff;stroke:#0000ff;\" x=\"215.764349\" xlink:href=\"#m8fc80c1aed\" y=\"107.382218\"/>\n    </g>\n   </g>\n   <g id=\"PathCollection_105\">\n    <g clip-path=\"url(#p6ca706fa92)\">\n     <use style=\"fill:#0000ff;stroke:#0000ff;\" x=\"215.771747\" xlink:href=\"#m8fc80c1aed\" y=\"107.382575\"/>\n    </g>\n   </g>\n   <g id=\"PathCollection_106\">\n    <g clip-path=\"url(#p6ca706fa92)\">\n     <use style=\"fill:#0000ff;stroke:#0000ff;\" x=\"215.771384\" xlink:href=\"#m8fc80c1aed\" y=\"107.38338\"/>\n    </g>\n   </g>\n   <g id=\"PathCollection_107\">\n    <g clip-path=\"url(#p6ca706fa92)\">\n     <use style=\"fill:#0000ff;stroke:#0000ff;\" x=\"215.562376\" xlink:href=\"#m8fc80c1aed\" y=\"107.385336\"/>\n    </g>\n   </g>\n   <g id=\"PathCollection_108\">\n    <g clip-path=\"url(#p6ca706fa92)\">\n     <use style=\"fill:#0000ff;stroke:#0000ff;\" x=\"215.539649\" xlink:href=\"#m8fc80c1aed\" y=\"107.386465\"/>\n    </g>\n   </g>\n   <g id=\"PathCollection_109\">\n    <g clip-path=\"url(#p6ca706fa92)\">\n     <use style=\"fill:#0000ff;stroke:#0000ff;\" x=\"215.584066\" xlink:href=\"#m8fc80c1aed\" y=\"107.387503\"/>\n    </g>\n   </g>\n   <g id=\"PathCollection_110\">\n    <g clip-path=\"url(#p6ca706fa92)\">\n     <use style=\"fill:#0000ff;stroke:#0000ff;\" x=\"215.562966\" xlink:href=\"#m8fc80c1aed\" y=\"107.385326\"/>\n    </g>\n   </g>\n   <g id=\"PathCollection_111\">\n    <g clip-path=\"url(#p6ca706fa92)\">\n     <use style=\"fill:#0000ff;stroke:#0000ff;\" x=\"215.771417\" xlink:href=\"#m8fc80c1aed\" y=\"107.383372\"/>\n    </g>\n   </g>\n   <g id=\"PathCollection_112\">\n    <g clip-path=\"url(#p6ca706fa92)\">\n     <use style=\"fill:#0000ff;stroke:#0000ff;\" x=\"215.562357\" xlink:href=\"#m8fc80c1aed\" y=\"107.38533\"/>\n    </g>\n   </g>\n   <g id=\"PathCollection_113\">\n    <g clip-path=\"url(#p6ca706fa92)\">\n     <use style=\"fill:#0000ff;stroke:#0000ff;\" x=\"215.539479\" xlink:href=\"#m8fc80c1aed\" y=\"107.387349\"/>\n    </g>\n   </g>\n   <g id=\"PathCollection_114\">\n    <g clip-path=\"url(#p6ca706fa92)\">\n     <use style=\"fill:#0000ff;stroke:#0000ff;\" x=\"215.562348\" xlink:href=\"#m8fc80c1aed\" y=\"107.386329\"/>\n    </g>\n   </g>\n   <g id=\"matplotlib.axis_1\">\n    <g id=\"xtick_1\">\n     <g id=\"line2d_1\">\n      <defs>\n       <path d=\"M 0 0 \nL 0 3.5 \n\" id=\"m3f16658c17\" style=\"stroke:#000000;stroke-width:0.8;\"/>\n      </defs>\n      <g>\n       <use style=\"stroke:#000000;stroke-width:0.8;\" x=\"44.394618\" xlink:href=\"#m3f16658c17\" y=\"224.64\"/>\n      </g>\n     </g>\n     <g id=\"text_1\">\n      <!-- −3 -->\n      <g transform=\"translate(37.023524 239.238437)scale(0.1 -0.1)\">\n       <defs>\n        <path d=\"M 10.59375 35.5 \nL 73.1875 35.5 \nL 73.1875 27.203125 \nL 10.59375 27.203125 \nz\n\" id=\"DejaVuSans-8722\"/>\n        <path d=\"M 40.578125 39.3125 \nQ 47.65625 37.796875 51.625 33 \nQ 55.609375 28.21875 55.609375 21.1875 \nQ 55.609375 10.40625 48.1875 4.484375 \nQ 40.765625 -1.421875 27.09375 -1.421875 \nQ 22.515625 -1.421875 17.65625 -0.515625 \nQ 12.796875 0.390625 7.625 2.203125 \nL 7.625 11.71875 \nQ 11.71875 9.328125 16.59375 8.109375 \nQ 21.484375 6.890625 26.8125 6.890625 \nQ 36.078125 6.890625 40.9375 10.546875 \nQ 45.796875 14.203125 45.796875 21.1875 \nQ 45.796875 27.640625 41.28125 31.265625 \nQ 36.765625 34.90625 28.71875 34.90625 \nL 20.21875 34.90625 \nL 20.21875 43.015625 \nL 29.109375 43.015625 \nQ 36.375 43.015625 40.234375 45.921875 \nQ 44.09375 48.828125 44.09375 54.296875 \nQ 44.09375 59.90625 40.109375 62.90625 \nQ 36.140625 65.921875 28.71875 65.921875 \nQ 24.65625 65.921875 20.015625 65.03125 \nQ 15.375 64.15625 9.8125 62.3125 \nL 9.8125 71.09375 \nQ 15.4375 72.65625 20.34375 73.4375 \nQ 25.25 74.21875 29.59375 74.21875 \nQ 40.828125 74.21875 47.359375 69.109375 \nQ 53.90625 64.015625 53.90625 55.328125 \nQ 53.90625 49.265625 50.4375 45.09375 \nQ 46.96875 40.921875 40.578125 39.3125 \nz\n\" id=\"DejaVuSans-51\"/>\n       </defs>\n       <use xlink:href=\"#DejaVuSans-8722\"/>\n       <use x=\"83.789062\" xlink:href=\"#DejaVuSans-51\"/>\n      </g>\n     </g>\n    </g>\n    <g id=\"xtick_2\">\n     <g id=\"line2d_2\">\n      <g>\n       <use style=\"stroke:#000000;stroke-width:0.8;\" x=\"83.973921\" xlink:href=\"#m3f16658c17\" y=\"224.64\"/>\n      </g>\n     </g>\n     <g id=\"text_2\">\n      <!-- −2 -->\n      <g transform=\"translate(76.602827 239.238437)scale(0.1 -0.1)\">\n       <defs>\n        <path d=\"M 19.1875 8.296875 \nL 53.609375 8.296875 \nL 53.609375 0 \nL 7.328125 0 \nL 7.328125 8.296875 \nQ 12.9375 14.109375 22.625 23.890625 \nQ 32.328125 33.6875 34.8125 36.53125 \nQ 39.546875 41.84375 41.421875 45.53125 \nQ 43.3125 49.21875 43.3125 52.78125 \nQ 43.3125 58.59375 39.234375 62.25 \nQ 35.15625 65.921875 28.609375 65.921875 \nQ 23.96875 65.921875 18.8125 64.3125 \nQ 13.671875 62.703125 7.8125 59.421875 \nL 7.8125 69.390625 \nQ 13.765625 71.78125 18.9375 73 \nQ 24.125 74.21875 28.421875 74.21875 \nQ 39.75 74.21875 46.484375 68.546875 \nQ 53.21875 62.890625 53.21875 53.421875 \nQ 53.21875 48.921875 51.53125 44.890625 \nQ 49.859375 40.875 45.40625 35.40625 \nQ 44.1875 33.984375 37.640625 27.21875 \nQ 31.109375 20.453125 19.1875 8.296875 \nz\n\" id=\"DejaVuSans-50\"/>\n       </defs>\n       <use xlink:href=\"#DejaVuSans-8722\"/>\n       <use x=\"83.789062\" xlink:href=\"#DejaVuSans-50\"/>\n      </g>\n     </g>\n    </g>\n    <g id=\"xtick_3\">\n     <g id=\"line2d_3\">\n      <g>\n       <use style=\"stroke:#000000;stroke-width:0.8;\" x=\"123.553224\" xlink:href=\"#m3f16658c17\" y=\"224.64\"/>\n      </g>\n     </g>\n     <g id=\"text_3\">\n      <!-- −1 -->\n      <g transform=\"translate(116.18213 239.238437)scale(0.1 -0.1)\">\n       <defs>\n        <path d=\"M 12.40625 8.296875 \nL 28.515625 8.296875 \nL 28.515625 63.921875 \nL 10.984375 60.40625 \nL 10.984375 69.390625 \nL 28.421875 72.90625 \nL 38.28125 72.90625 \nL 38.28125 8.296875 \nL 54.390625 8.296875 \nL 54.390625 0 \nL 12.40625 0 \nz\n\" id=\"DejaVuSans-49\"/>\n       </defs>\n       <use xlink:href=\"#DejaVuSans-8722\"/>\n       <use x=\"83.789062\" xlink:href=\"#DejaVuSans-49\"/>\n      </g>\n     </g>\n    </g>\n    <g id=\"xtick_4\">\n     <g id=\"line2d_4\">\n      <g>\n       <use style=\"stroke:#000000;stroke-width:0.8;\" x=\"163.132527\" xlink:href=\"#m3f16658c17\" y=\"224.64\"/>\n      </g>\n     </g>\n     <g id=\"text_4\">\n      <!-- 0 -->\n      <g transform=\"translate(159.951277 239.238437)scale(0.1 -0.1)\">\n       <defs>\n        <path d=\"M 31.78125 66.40625 \nQ 24.171875 66.40625 20.328125 58.90625 \nQ 16.5 51.421875 16.5 36.375 \nQ 16.5 21.390625 20.328125 13.890625 \nQ 24.171875 6.390625 31.78125 6.390625 \nQ 39.453125 6.390625 43.28125 13.890625 \nQ 47.125 21.390625 47.125 36.375 \nQ 47.125 51.421875 43.28125 58.90625 \nQ 39.453125 66.40625 31.78125 66.40625 \nz\nM 31.78125 74.21875 \nQ 44.046875 74.21875 50.515625 64.515625 \nQ 56.984375 54.828125 56.984375 36.375 \nQ 56.984375 17.96875 50.515625 8.265625 \nQ 44.046875 -1.421875 31.78125 -1.421875 \nQ 19.53125 -1.421875 13.0625 8.265625 \nQ 6.59375 17.96875 6.59375 36.375 \nQ 6.59375 54.828125 13.0625 64.515625 \nQ 19.53125 74.21875 31.78125 74.21875 \nz\n\" id=\"DejaVuSans-48\"/>\n       </defs>\n       <use xlink:href=\"#DejaVuSans-48\"/>\n      </g>\n     </g>\n    </g>\n    <g id=\"xtick_5\">\n     <g id=\"line2d_5\">\n      <g>\n       <use style=\"stroke:#000000;stroke-width:0.8;\" x=\"202.71183\" xlink:href=\"#m3f16658c17\" y=\"224.64\"/>\n      </g>\n     </g>\n     <g id=\"text_5\">\n      <!-- 1 -->\n      <g transform=\"translate(199.53058 239.238437)scale(0.1 -0.1)\">\n       <use xlink:href=\"#DejaVuSans-49\"/>\n      </g>\n     </g>\n    </g>\n    <g id=\"xtick_6\">\n     <g id=\"line2d_6\">\n      <g>\n       <use style=\"stroke:#000000;stroke-width:0.8;\" x=\"242.291134\" xlink:href=\"#m3f16658c17\" y=\"224.64\"/>\n      </g>\n     </g>\n     <g id=\"text_6\">\n      <!-- 2 -->\n      <g transform=\"translate(239.109884 239.238437)scale(0.1 -0.1)\">\n       <use xlink:href=\"#DejaVuSans-50\"/>\n      </g>\n     </g>\n    </g>\n    <g id=\"xtick_7\">\n     <g id=\"line2d_7\">\n      <g>\n       <use style=\"stroke:#000000;stroke-width:0.8;\" x=\"281.870437\" xlink:href=\"#m3f16658c17\" y=\"224.64\"/>\n      </g>\n     </g>\n     <g id=\"text_7\">\n      <!-- 3 -->\n      <g transform=\"translate(278.689187 239.238437)scale(0.1 -0.1)\">\n       <use xlink:href=\"#DejaVuSans-51\"/>\n      </g>\n     </g>\n    </g>\n    <g id=\"xtick_8\">\n     <g id=\"line2d_8\">\n      <g>\n       <use style=\"stroke:#000000;stroke-width:0.8;\" x=\"321.44974\" xlink:href=\"#m3f16658c17\" y=\"224.64\"/>\n      </g>\n     </g>\n     <g id=\"text_8\">\n      <!-- 4 -->\n      <g transform=\"translate(318.26849 239.238437)scale(0.1 -0.1)\">\n       <defs>\n        <path d=\"M 37.796875 64.3125 \nL 12.890625 25.390625 \nL 37.796875 25.390625 \nz\nM 35.203125 72.90625 \nL 47.609375 72.90625 \nL 47.609375 25.390625 \nL 58.015625 25.390625 \nL 58.015625 17.1875 \nL 47.609375 17.1875 \nL 47.609375 0 \nL 37.796875 0 \nL 37.796875 17.1875 \nL 4.890625 17.1875 \nL 4.890625 26.703125 \nz\n\" id=\"DejaVuSans-52\"/>\n       </defs>\n       <use xlink:href=\"#DejaVuSans-52\"/>\n      </g>\n     </g>\n    </g>\n    <g id=\"xtick_9\">\n     <g id=\"line2d_9\">\n      <g>\n       <use style=\"stroke:#000000;stroke-width:0.8;\" x=\"361.029043\" xlink:href=\"#m3f16658c17\" y=\"224.64\"/>\n      </g>\n     </g>\n     <g id=\"text_9\">\n      <!-- 5 -->\n      <g transform=\"translate(357.847793 239.238437)scale(0.1 -0.1)\">\n       <defs>\n        <path d=\"M 10.796875 72.90625 \nL 49.515625 72.90625 \nL 49.515625 64.59375 \nL 19.828125 64.59375 \nL 19.828125 46.734375 \nQ 21.96875 47.46875 24.109375 47.828125 \nQ 26.265625 48.1875 28.421875 48.1875 \nQ 40.625 48.1875 47.75 41.5 \nQ 54.890625 34.8125 54.890625 23.390625 \nQ 54.890625 11.625 47.5625 5.09375 \nQ 40.234375 -1.421875 26.90625 -1.421875 \nQ 22.3125 -1.421875 17.546875 -0.640625 \nQ 12.796875 0.140625 7.71875 1.703125 \nL 7.71875 11.625 \nQ 12.109375 9.234375 16.796875 8.0625 \nQ 21.484375 6.890625 26.703125 6.890625 \nQ 35.15625 6.890625 40.078125 11.328125 \nQ 45.015625 15.765625 45.015625 23.390625 \nQ 45.015625 31 40.078125 35.4375 \nQ 35.15625 39.890625 26.703125 39.890625 \nQ 22.75 39.890625 18.8125 39.015625 \nQ 14.890625 38.140625 10.796875 36.28125 \nz\n\" id=\"DejaVuSans-53\"/>\n       </defs>\n       <use xlink:href=\"#DejaVuSans-53\"/>\n      </g>\n     </g>\n    </g>\n   </g>\n   <g id=\"matplotlib.axis_2\">\n    <g id=\"ytick_1\">\n     <g id=\"line2d_10\">\n      <defs>\n       <path d=\"M 0 0 \nL -3.5 0 \n\" id=\"m3b9b8aac9c\" style=\"stroke:#000000;stroke-width:0.8;\"/>\n      </defs>\n      <g>\n       <use style=\"stroke:#000000;stroke-width:0.8;\" x=\"28.942188\" xlink:href=\"#m3b9b8aac9c\" y=\"196.495665\"/>\n      </g>\n     </g>\n     <g id=\"text_10\">\n      <!-- −4 -->\n      <g transform=\"translate(7.2 200.294884)scale(0.1 -0.1)\">\n       <use xlink:href=\"#DejaVuSans-8722\"/>\n       <use x=\"83.789062\" xlink:href=\"#DejaVuSans-52\"/>\n      </g>\n     </g>\n    </g>\n    <g id=\"ytick_2\">\n     <g id=\"line2d_11\">\n      <g>\n       <use style=\"stroke:#000000;stroke-width:0.8;\" x=\"28.942188\" xlink:href=\"#m3b9b8aac9c\" y=\"168.183809\"/>\n      </g>\n     </g>\n     <g id=\"text_11\">\n      <!-- −3 -->\n      <g transform=\"translate(7.2 171.983027)scale(0.1 -0.1)\">\n       <use xlink:href=\"#DejaVuSans-8722\"/>\n       <use x=\"83.789062\" xlink:href=\"#DejaVuSans-51\"/>\n      </g>\n     </g>\n    </g>\n    <g id=\"ytick_3\">\n     <g id=\"line2d_12\">\n      <g>\n       <use style=\"stroke:#000000;stroke-width:0.8;\" x=\"28.942188\" xlink:href=\"#m3b9b8aac9c\" y=\"139.871952\"/>\n      </g>\n     </g>\n     <g id=\"text_12\">\n      <!-- −2 -->\n      <g transform=\"translate(7.2 143.671171)scale(0.1 -0.1)\">\n       <use xlink:href=\"#DejaVuSans-8722\"/>\n       <use x=\"83.789062\" xlink:href=\"#DejaVuSans-50\"/>\n      </g>\n     </g>\n    </g>\n    <g id=\"ytick_4\">\n     <g id=\"line2d_13\">\n      <g>\n       <use style=\"stroke:#000000;stroke-width:0.8;\" x=\"28.942188\" xlink:href=\"#m3b9b8aac9c\" y=\"111.560096\"/>\n      </g>\n     </g>\n     <g id=\"text_13\">\n      <!-- −1 -->\n      <g transform=\"translate(7.2 115.359315)scale(0.1 -0.1)\">\n       <use xlink:href=\"#DejaVuSans-8722\"/>\n       <use x=\"83.789062\" xlink:href=\"#DejaVuSans-49\"/>\n      </g>\n     </g>\n    </g>\n    <g id=\"ytick_5\">\n     <g id=\"line2d_14\">\n      <g>\n       <use style=\"stroke:#000000;stroke-width:0.8;\" x=\"28.942188\" xlink:href=\"#m3b9b8aac9c\" y=\"83.248239\"/>\n      </g>\n     </g>\n     <g id=\"text_14\">\n      <!-- 0 -->\n      <g transform=\"translate(15.579688 87.047458)scale(0.1 -0.1)\">\n       <use xlink:href=\"#DejaVuSans-48\"/>\n      </g>\n     </g>\n    </g>\n    <g id=\"ytick_6\">\n     <g id=\"line2d_15\">\n      <g>\n       <use style=\"stroke:#000000;stroke-width:0.8;\" x=\"28.942188\" xlink:href=\"#m3b9b8aac9c\" y=\"54.936383\"/>\n      </g>\n     </g>\n     <g id=\"text_15\">\n      <!-- 1 -->\n      <g transform=\"translate(15.579688 58.735602)scale(0.1 -0.1)\">\n       <use xlink:href=\"#DejaVuSans-49\"/>\n      </g>\n     </g>\n    </g>\n    <g id=\"ytick_7\">\n     <g id=\"line2d_16\">\n      <g>\n       <use style=\"stroke:#000000;stroke-width:0.8;\" x=\"28.942188\" xlink:href=\"#m3b9b8aac9c\" y=\"26.624527\"/>\n      </g>\n     </g>\n     <g id=\"text_16\">\n      <!-- 2 -->\n      <g transform=\"translate(15.579688 30.423745)scale(0.1 -0.1)\">\n       <use xlink:href=\"#DejaVuSans-50\"/>\n      </g>\n     </g>\n    </g>\n   </g>\n   <g id=\"patch_3\">\n    <path d=\"M 28.942188 224.64 \nL 28.942188 7.2 \n\" style=\"fill:none;stroke:#000000;stroke-linecap:square;stroke-linejoin:miter;stroke-width:0.8;\"/>\n   </g>\n   <g id=\"patch_4\">\n    <path d=\"M 363.742188 224.64 \nL 363.742188 7.2 \n\" style=\"fill:none;stroke:#000000;stroke-linecap:square;stroke-linejoin:miter;stroke-width:0.8;\"/>\n   </g>\n   <g id=\"patch_5\">\n    <path d=\"M 28.942187 224.64 \nL 363.742188 224.64 \n\" style=\"fill:none;stroke:#000000;stroke-linecap:square;stroke-linejoin:miter;stroke-width:0.8;\"/>\n   </g>\n   <g id=\"patch_6\">\n    <path d=\"M 28.942187 7.2 \nL 363.742188 7.2 \n\" style=\"fill:none;stroke:#000000;stroke-linecap:square;stroke-linejoin:miter;stroke-width:0.8;\"/>\n   </g>\n  </g>\n </g>\n <defs>\n  <clipPath id=\"p6ca706fa92\">\n   <rect height=\"217.44\" width=\"334.8\" x=\"28.942188\" y=\"7.2\"/>\n  </clipPath>\n </defs>\n</svg>\n",
      "image/png": "[encoded data removed]"
     },
     "metadata": {
      "needs_background": "light"
     }
    }
   ],
   "source": [
    "x_coords = Y[:, 0]\n",
    "y_coords = Y[:, 1]\n",
    "# display scatter plot\n",
    "\n",
    "\n",
    "for label, x, y in zip(category, x_coords, y_coords):\n",
    "    if label == 0:\n",
    "        plt.scatter(x, y, color='blue')\n",
    "    else:\n",
    "        plt.scatter(x, y, color='red')\n",
    "plt.xlim(x_coords.min()+0.00005, x_coords.max()+0.00005)\n",
    "plt.ylim(y_coords.min()+0.00005, y_coords.max()+0.00005)\n",
    "plt.show()\n"
   ]
  },
  {
   "cell_type": "code",
   "execution_count": 45,
   "metadata": {},
   "outputs": [
    {
     "output_type": "display_data",
     "data": {
      "text/plain": "   nodePropertiesWritten                             centralityDistribution  \\\n0                   2433  {'p99': 44.00023651123047, 'min': 0.0, 'max': ...   \n\n   writeMillis  postProcessingMillis  createMillis  computeMillis  \\\n0            4                    12             0              0   \n\n                                       configuration  \n0  {'orientation': 'NATURAL', 'writeConcurrency':...  ",
      "text/html": "<div>\n<style scoped>\n    .dataframe tbody tr th:only-of-type {\n        vertical-align: middle;\n    }\n\n    .dataframe tbody tr th {\n        vertical-align: top;\n    }\n\n    .dataframe thead th {\n        text-align: right;\n    }\n</style>\n<table border=\"1\" class=\"dataframe\">\n  <thead>\n    <tr style=\"text-align: right;\">\n      <th></th>\n      <th>nodePropertiesWritten</th>\n      <th>centralityDistribution</th>\n      <th>writeMillis</th>\n      <th>postProcessingMillis</th>\n      <th>createMillis</th>\n      <th>computeMillis</th>\n      <th>configuration</th>\n    </tr>\n  </thead>\n  <tbody>\n    <tr>\n      <th>0</th>\n      <td>2433</td>\n      <td>{'p99': 44.00023651123047, 'min': 0.0, 'max': ...</td>\n      <td>4</td>\n      <td>12</td>\n      <td>0</td>\n      <td>0</td>\n      <td>{'orientation': 'NATURAL', 'writeConcurrency':...</td>\n    </tr>\n  </tbody>\n</table>\n</div>"
     },
     "metadata": {}
    },
    {
     "output_type": "display_data",
     "data": {
      "text/plain": "   writeMillis  nodePropertiesWritten  ranIterations  didConverge  \\\n0           26                   2433             20        False   \n\n                              centralityDistribution  postProcessingMillis  \\\n0  {'p99': 1.9723806381225586, 'min': 0.149999618...                     6   \n\n   createMillis  computeMillis  \\\n0             0             21   \n\n                                       configuration  \n0  {'maxIterations': 20, 'writeConcurrency': 4, '...  ",
      "text/html": "<div>\n<style scoped>\n    .dataframe tbody tr th:only-of-type {\n        vertical-align: middle;\n    }\n\n    .dataframe tbody tr th {\n        vertical-align: top;\n    }\n\n    .dataframe thead th {\n        text-align: right;\n    }\n</style>\n<table border=\"1\" class=\"dataframe\">\n  <thead>\n    <tr style=\"text-align: right;\">\n      <th></th>\n      <th>writeMillis</th>\n      <th>nodePropertiesWritten</th>\n      <th>ranIterations</th>\n      <th>didConverge</th>\n      <th>centralityDistribution</th>\n      <th>postProcessingMillis</th>\n      <th>createMillis</th>\n      <th>computeMillis</th>\n      <th>configuration</th>\n    </tr>\n  </thead>\n  <tbody>\n    <tr>\n      <th>0</th>\n      <td>26</td>\n      <td>2433</td>\n      <td>20</td>\n      <td>False</td>\n      <td>{'p99': 1.9723806381225586, 'min': 0.149999618...</td>\n      <td>6</td>\n      <td>0</td>\n      <td>21</td>\n      <td>{'maxIterations': 20, 'writeConcurrency': 4, '...</td>\n    </tr>\n  </tbody>\n</table>\n</div>"
     },
     "metadata": {}
    },
    {
     "output_type": "display_data",
     "data": {
      "text/plain": "   writeMillis  nodePropertiesWritten  globalTriangleCount  nodeCount  \\\n0            5                   2433                  550       2433   \n\n   postProcessingMillis  createMillis  computeMillis  \\\n0                     0             0              4   \n\n                                       configuration  \n0  {'writeConcurrency': 4, 'writeProperty': 'tria...  ",
      "text/html": "<div>\n<style scoped>\n    .dataframe tbody tr th:only-of-type {\n        vertical-align: middle;\n    }\n\n    .dataframe tbody tr th {\n        vertical-align: top;\n    }\n\n    .dataframe thead th {\n        text-align: right;\n    }\n</style>\n<table border=\"1\" class=\"dataframe\">\n  <thead>\n    <tr style=\"text-align: right;\">\n      <th></th>\n      <th>writeMillis</th>\n      <th>nodePropertiesWritten</th>\n      <th>globalTriangleCount</th>\n      <th>nodeCount</th>\n      <th>postProcessingMillis</th>\n      <th>createMillis</th>\n      <th>computeMillis</th>\n      <th>configuration</th>\n    </tr>\n  </thead>\n  <tbody>\n    <tr>\n      <th>0</th>\n      <td>5</td>\n      <td>2433</td>\n      <td>550</td>\n      <td>2433</td>\n      <td>0</td>\n      <td>0</td>\n      <td>4</td>\n      <td>{'writeConcurrency': 4, 'writeProperty': 'tria...</td>\n    </tr>\n  </tbody>\n</table>\n</div>"
     },
     "metadata": {}
    }
   ],
   "source": [
    "# Calculate some additional \"graph features\"\n",
    "with driver.session(database = DB_NAME) as session:\n",
    "    result = session.write_transaction( lambda tx: \n",
    "    tx.run(\n",
    "        \"\"\"\n",
    "        CALL gds.degree.write('client_graph',{\n",
    "            nodeLabels:['Client'],\n",
    "            relationshipTypes:['TRANSACTED_WITH'],\n",
    "            writeProperty:'degree'\n",
    "        });\n",
    "        \"\"\"\n",
    "        ).data()\n",
    "    )\n",
    "    df = pd.DataFrame(result)\n",
    "    display(df)\n",
    "    result = session.write_transaction( lambda tx: \n",
    "    tx.run(\n",
    "        \"\"\"  \n",
    "        CALL gds.pageRank.write('client_graph',{\n",
    "            nodeLabels:['Client'],\n",
    "            relationshipTypes:['TRANSACTED_WITH'],\n",
    "            writeProperty:'pageRank'\n",
    "        });  \n",
    "        \"\"\"\n",
    "        ).data()\n",
    "    )\n",
    "    df = pd.DataFrame(result)\n",
    "    display(df)\n",
    "    result = session.write_transaction( lambda tx: \n",
    "    tx.run(\n",
    "        \"\"\"\n",
    "        CALL gds.triangleCount.write('client_graph',{\n",
    "            nodeLabels:['Client'],\n",
    "            relationshipTypes:['TRANSACTED_WITH'],\n",
    "            writeProperty:'triangles'\n",
    "        });\n",
    "        \"\"\"\n",
    "        ).data()\n",
    "    )\n",
    "    df = pd.DataFrame(result)\n",
    "    display(df)"
   ]
  },
  {
   "cell_type": "code",
   "execution_count": 46,
   "metadata": {},
   "outputs": [
    {
     "output_type": "display_data",
     "data": {
      "text/plain": "Empty DataFrame\nColumns: []\nIndex: []",
      "text/html": "<div>\n<style scoped>\n    .dataframe tbody tr th:only-of-type {\n        vertical-align: middle;\n    }\n\n    .dataframe tbody tr th {\n        vertical-align: top;\n    }\n\n    .dataframe thead th {\n        text-align: right;\n    }\n</style>\n<table border=\"1\" class=\"dataframe\">\n  <thead>\n    <tr style=\"text-align: right;\">\n      <th></th>\n    </tr>\n  </thead>\n  <tbody>\n  </tbody>\n</table>\n</div>"
     },
     "metadata": {}
    },
    {
     "output_type": "display_data",
     "data": {
      "text/plain": "Empty DataFrame\nColumns: []\nIndex: []",
      "text/html": "<div>\n<style scoped>\n    .dataframe tbody tr th:only-of-type {\n        vertical-align: middle;\n    }\n\n    .dataframe tbody tr th {\n        vertical-align: top;\n    }\n\n    .dataframe thead th {\n        text-align: right;\n    }\n</style>\n<table border=\"1\" class=\"dataframe\">\n  <thead>\n    <tr style=\"text-align: right;\">\n      <th></th>\n    </tr>\n  </thead>\n  <tbody>\n  </tbody>\n</table>\n</div>"
     },
     "metadata": {}
    }
   ],
   "source": [
    "# Calculate some additional \"graph features\" using cypher\n",
    "with driver.session(database = DB_NAME) as session:\n",
    "    result = session.write_transaction( lambda tx: \n",
    "        tx.run(\n",
    "            \"\"\"\n",
    "            MATCH (c:Client)-[:PERFORMED]->(t:Transaction)\n",
    "            WITH c, count(t) as num_transaction, sum(t.amount) as total_transaction_volume\n",
    "            SET c.num_transactions=num_transaction, c.total_transaction_amnt=total_transaction_volume;\n",
    "            \"\"\"\n",
    "        ).data()\n",
    "    )\n",
    "    df = pd.DataFrame(result)\n",
    "    display(df)\n",
    "    result = session.write_transaction( lambda tx: \n",
    "        tx.run(\n",
    "            \"\"\"\n",
    "            MATCH (c:Client)-[:PERFORMED]->(t:Transaction{fraud:true})\n",
    "            WITH c, count(t) as num_frauds\n",
    "            SET c.num_frauds=num_frauds;\n",
    "            \"\"\"\n",
    "        ).data()\n",
    "    )\n",
    "    df = pd.DataFrame(result)\n",
    "    display(df)"
   ]
  },
  {
   "cell_type": "code",
   "execution_count": 47,
   "metadata": {},
   "outputs": [
    {
     "output_type": "display_data",
     "data": {
      "text/plain": "                                      nodeProjection  \\\n0  {'Client': {'properties': {'num_frauds': {'pro...   \n\n                              relationshipProjection    graphName  nodeCount  \\\n0  {'TO': {'orientation': 'NATURAL', 'aggregation...  fraud_graph        114   \n\n   relationshipCount  createMillis  \n0                  0            21  ",
      "text/html": "<div>\n<style scoped>\n    .dataframe tbody tr th:only-of-type {\n        vertical-align: middle;\n    }\n\n    .dataframe tbody tr th {\n        vertical-align: top;\n    }\n\n    .dataframe thead th {\n        text-align: right;\n    }\n</style>\n<table border=\"1\" class=\"dataframe\">\n  <thead>\n    <tr style=\"text-align: right;\">\n      <th></th>\n      <th>nodeProjection</th>\n      <th>relationshipProjection</th>\n      <th>graphName</th>\n      <th>nodeCount</th>\n      <th>relationshipCount</th>\n      <th>createMillis</th>\n    </tr>\n  </thead>\n  <tbody>\n    <tr>\n      <th>0</th>\n      <td>{'Client': {'properties': {'num_frauds': {'pro...</td>\n      <td>{'TO': {'orientation': 'NATURAL', 'aggregation...</td>\n      <td>fraud_graph</td>\n      <td>114</td>\n      <td>0</td>\n      <td>21</td>\n    </tr>\n  </tbody>\n</table>\n</div>"
     },
     "metadata": {}
    }
   ],
   "source": [
    "# Create projection with model data\n",
    "with driver.session(database = DB_NAME) as session:\n",
    "    result = session.read_transaction( lambda tx: \n",
    "        tx.run(\n",
    "            \"\"\"\n",
    "            CALL gds.graph.create('fraud_graph',\n",
    "            {\n",
    "                Client:{\n",
    "                    label:'model_data',\n",
    "                    properties:{\n",
    "                        embedding:{property:'embedding', defaultValue:0},\n",
    "                        pageRank:{property:'pageRank', defaultValue:0},\n",
    "                        triangles:{property:'triangles', defaultValue:0},\n",
    "                        degree:{property:'degree', defaultValue:0},\n",
    "                        num_transactions:{property:'num_transactions',defaultValue:0},\n",
    "                        total_transaction_amnt:{property:'total_transaction_amnt',defaultValue:0},\n",
    "                        num_frauds:{property:'num_frauds',defaultValue:0},\n",
    "                        is_fraudster:{property:'is_fraudster',defaultValue:0}\n",
    "                    }\n",
    "                }\n",
    "            }, {\n",
    "                TO: {type:'TO'} //I don't actually need this\n",
    "            })\n",
    "            \"\"\"\n",
    "        ).data()\n",
    "    )\n",
    "    df = pd.DataFrame(result)\n",
    "    display(df)"
   ]
  },
  {
   "cell_type": "code",
   "execution_count": 48,
   "metadata": {},
   "outputs": [
    {
     "output_type": "display_data",
     "data": {
      "text/plain": "                                        winningModel  trainGraphScore  \\\n0  {'maxEpochs': 1000, 'minEpochs': 1, 'penalty':...         0.463402   \n\n   testGraphScore  \n0        0.521739  ",
      "text/html": "<div>\n<style scoped>\n    .dataframe tbody tr th:only-of-type {\n        vertical-align: middle;\n    }\n\n    .dataframe tbody tr th {\n        vertical-align: top;\n    }\n\n    .dataframe thead th {\n        text-align: right;\n    }\n</style>\n<table border=\"1\" class=\"dataframe\">\n  <thead>\n    <tr style=\"text-align: right;\">\n      <th></th>\n      <th>winningModel</th>\n      <th>trainGraphScore</th>\n      <th>testGraphScore</th>\n    </tr>\n  </thead>\n  <tbody>\n    <tr>\n      <th>0</th>\n      <td>{'maxEpochs': 1000, 'minEpochs': 1, 'penalty':...</td>\n      <td>0.463402</td>\n      <td>0.521739</td>\n    </tr>\n  </tbody>\n</table>\n</div>"
     },
     "metadata": {}
    }
   ],
   "source": [
    "# Train node classification & pick the best model\n",
    "with driver.session(database = DB_NAME) as session:\n",
    "    result = session.read_transaction( lambda tx: \n",
    "        tx.run(\n",
    "            \"\"\"\n",
    "            CALL gds.alpha.ml.nodeClassification.train('fraud_graph', {\n",
    "            nodeLabels: ['Client'],\n",
    "            modelName: 'fraud-model',\n",
    "            featureProperties: ['embedding', 'triangles','num_frauds','num_transactions','pageRank'], \n",
    "            targetProperty: 'is_fraudster', \n",
    "            metrics: ['F1_WEIGHTED','ACCURACY'], \n",
    "            holdoutFraction: 0.2, \n",
    "            validationFolds: 5, \n",
    "            randomSeed: 2,\n",
    "            params: [\n",
    "                {penalty: 0, maxEpochs: 1000},\n",
    "                {penalty: 0.5, maxEpochs: 1000},\n",
    "                {penalty: 1.0, maxEpochs: 1000}\n",
    "                ]\n",
    "                }) YIELD modelInfo\n",
    "            RETURN\n",
    "            modelInfo.bestParameters AS winningModel,\n",
    "            modelInfo.metrics.F1_WEIGHTED.outerTrain AS trainGraphScore,\n",
    "            modelInfo.metrics.F1_WEIGHTED.test AS testGraphScore\n",
    "            \"\"\"\n",
    "        ).data()\n",
    "    )\n",
    "    df = pd.DataFrame(result)\n",
    "    display(df)"
   ]
  },
  {
   "cell_type": "code",
   "execution_count": 49,
   "metadata": {},
   "outputs": [
    {
     "output_type": "display_data",
     "data": {
      "text/plain": "   count(*)\n0      2319",
      "text/html": "<div>\n<style scoped>\n    .dataframe tbody tr th:only-of-type {\n        vertical-align: middle;\n    }\n\n    .dataframe tbody tr th {\n        vertical-align: top;\n    }\n\n    .dataframe thead th {\n        text-align: right;\n    }\n</style>\n<table border=\"1\" class=\"dataframe\">\n  <thead>\n    <tr style=\"text-align: right;\">\n      <th></th>\n      <th>count(*)</th>\n    </tr>\n  </thead>\n  <tbody>\n    <tr>\n      <th>0</th>\n      <td>2319</td>\n    </tr>\n  </tbody>\n</table>\n</div>"
     },
     "metadata": {}
    }
   ],
   "source": [
    "# Label the data we want to make predictions on\n",
    "with driver.session(database = DB_NAME) as session:\n",
    "    result = session.write_transaction( lambda tx: \n",
    "        tx.run(\n",
    "            \"\"\"\n",
    "            MATCH (c:Client) WHERE NOT c:model_data SET c:predict_data\n",
    "            return count(*)\n",
    "            \"\"\"\n",
    "        ).data()\n",
    "    )\n",
    "    df = pd.DataFrame(result)\n",
    "    display(df)"
   ]
  },
  {
   "cell_type": "code",
   "execution_count": 50,
   "metadata": {},
   "outputs": [
    {
     "output_type": "display_data",
     "data": {
      "text/plain": "                                      nodeProjection  \\\n0  {'Client': {'properties': {'num_frauds': {'pro...   \n\n                              relationshipProjection      graphName  \\\n0  {'TO': {'orientation': 'NATURAL', 'aggregation...  predict_graph   \n\n   nodeCount  relationshipCount  createMillis  \n0       2319                  0            33  ",
      "text/html": "<div>\n<style scoped>\n    .dataframe tbody tr th:only-of-type {\n        vertical-align: middle;\n    }\n\n    .dataframe tbody tr th {\n        vertical-align: top;\n    }\n\n    .dataframe thead th {\n        text-align: right;\n    }\n</style>\n<table border=\"1\" class=\"dataframe\">\n  <thead>\n    <tr style=\"text-align: right;\">\n      <th></th>\n      <th>nodeProjection</th>\n      <th>relationshipProjection</th>\n      <th>graphName</th>\n      <th>nodeCount</th>\n      <th>relationshipCount</th>\n      <th>createMillis</th>\n    </tr>\n  </thead>\n  <tbody>\n    <tr>\n      <th>0</th>\n      <td>{'Client': {'properties': {'num_frauds': {'pro...</td>\n      <td>{'TO': {'orientation': 'NATURAL', 'aggregation...</td>\n      <td>predict_graph</td>\n      <td>2319</td>\n      <td>0</td>\n      <td>33</td>\n    </tr>\n  </tbody>\n</table>\n</div>"
     },
     "metadata": {}
    }
   ],
   "source": [
    "# Create projection with predict_data \n",
    "with driver.session(database = DB_NAME) as session:\n",
    "    result = session.read_transaction( lambda tx: \n",
    "        tx.run(\n",
    "            \"\"\"\n",
    "            CALL gds.graph.create('predict_graph',\n",
    "            {\n",
    "                Client:{\n",
    "                    label:'predict_data',\n",
    "                    properties:{\n",
    "                        embedding:{property:'embedding', defaultValue:0},\n",
    "                        pageRank:{property:'pageRank', defaultValue:0},\n",
    "                        triangles:{property:'triangles', defaultValue:0},\n",
    "                        degree:{property:'degree', defaultValue:0},\n",
    "                        num_transactions:{property:'num_transactions',defaultValue:0},\n",
    "                        total_transaction_amnt:{property:'total_transaction_amnt',defaultValue:0},\n",
    "                        num_frauds:{property:'num_frauds',defaultValue:0},\n",
    "                        is_fraudster:{property:'is_fraudster',defaultValue:0}\n",
    "                    }\n",
    "                }\n",
    "            }, {\n",
    "                TO: {type:'TO'} //I don't actually need this\n",
    "            })\n",
    "            \"\"\"\n",
    "        ).data()\n",
    "    )\n",
    "    df = pd.DataFrame(result)\n",
    "    display(df)"
   ]
  },
  {
   "cell_type": "code",
   "execution_count": 51,
   "metadata": {},
   "outputs": [
    {
     "output_type": "display_data",
     "data": {
      "text/plain": "   nodePropertiesWritten  mutateMillis  postProcessingMillis  createMillis  \\\n0                   4638             0                     0             0   \n\n   computeMillis                                      configuration  \n0              1  {'modelName': 'fraud-model', 'predictedProbabi...  ",
      "text/html": "<div>\n<style scoped>\n    .dataframe tbody tr th:only-of-type {\n        vertical-align: middle;\n    }\n\n    .dataframe tbody tr th {\n        vertical-align: top;\n    }\n\n    .dataframe thead th {\n        text-align: right;\n    }\n</style>\n<table border=\"1\" class=\"dataframe\">\n  <thead>\n    <tr style=\"text-align: right;\">\n      <th></th>\n      <th>nodePropertiesWritten</th>\n      <th>mutateMillis</th>\n      <th>postProcessingMillis</th>\n      <th>createMillis</th>\n      <th>computeMillis</th>\n      <th>configuration</th>\n    </tr>\n  </thead>\n  <tbody>\n    <tr>\n      <th>0</th>\n      <td>4638</td>\n      <td>0</td>\n      <td>0</td>\n      <td>0</td>\n      <td>1</td>\n      <td>{'modelName': 'fraud-model', 'predictedProbabi...</td>\n    </tr>\n  </tbody>\n</table>\n</div>"
     },
     "metadata": {}
    }
   ],
   "source": [
    "# Make the predictions using node classification model\n",
    "with driver.session(database = DB_NAME) as session:\n",
    "    result = session.read_transaction( lambda tx: \n",
    "        tx.run(\n",
    "            \"\"\"\n",
    "            CALL gds.alpha.ml.nodeClassification.predict.mutate('predict_graph', {\n",
    "                nodeLabels: ['Client'], //filter our the character nodes\n",
    "                modelName: 'fraud-model',\n",
    "                mutateProperty: 'predicted_fraudster',\n",
    "                predictedProbabilityProperty: 'predicted_fraud_probability'\n",
    "            })\n",
    "            \"\"\"\n",
    "        ).data()\n",
    "    )\n",
    "    df = pd.DataFrame(result)\n",
    "    display(df)"
   ]
  },
  {
   "cell_type": "code",
   "execution_count": 52,
   "metadata": {},
   "outputs": [
    {
     "output_type": "display_data",
     "data": {
      "text/plain": "   writeMillis      graphName  \\\n0           63  predict_graph   \n\n                                      nodeProperties  propertiesWritten  \n0  [predicted_fraud_probability, predicted_frauds...               4638  ",
      "text/html": "<div>\n<style scoped>\n    .dataframe tbody tr th:only-of-type {\n        vertical-align: middle;\n    }\n\n    .dataframe tbody tr th {\n        vertical-align: top;\n    }\n\n    .dataframe thead th {\n        text-align: right;\n    }\n</style>\n<table border=\"1\" class=\"dataframe\">\n  <thead>\n    <tr style=\"text-align: right;\">\n      <th></th>\n      <th>writeMillis</th>\n      <th>graphName</th>\n      <th>nodeProperties</th>\n      <th>propertiesWritten</th>\n    </tr>\n  </thead>\n  <tbody>\n    <tr>\n      <th>0</th>\n      <td>63</td>\n      <td>predict_graph</td>\n      <td>[predicted_fraud_probability, predicted_frauds...</td>\n      <td>4638</td>\n    </tr>\n  </tbody>\n</table>\n</div>"
     },
     "metadata": {}
    }
   ],
   "source": [
    "# Write the predictions back to the database\n",
    "with driver.session(database = DB_NAME) as session:\n",
    "    result = session.write_transaction( lambda tx: \n",
    "        tx.run(\n",
    "            \"\"\"\n",
    "            CALL gds.graph.writeNodeProperties(\n",
    "                'predict_graph',\n",
    "                ['predicted_fraudster', 'predicted_fraud_probability'],\n",
    "                ['Client']\n",
    "            )\n",
    "            \"\"\"\n",
    "        ).data()\n",
    "    )\n",
    "    df = pd.DataFrame(result)\n",
    "    display(df)"
   ]
  },
  {
   "cell_type": "code",
   "execution_count": 53,
   "metadata": {},
   "outputs": [
    {
     "output_type": "display_data",
     "data": {
      "text/plain": "              c.name  c.predicted_fraudster  probability  \\\n0   Mackenzie Monroe                      1     0.780777   \n1  Gabriella Terrell                      1     0.772058   \n2    Brooklyn Peters                      1     0.755037   \n3    Matthew Goodman                      1     0.721250   \n4       Brayden Wise                      1     0.654502   \n5       Blake Phelps                      1     0.652654   \n6  Alexander Stevens                      1     0.636191   \n7    Jackson Chapman                      1     0.634937   \n8      Caleb Calhoun                      1     0.616541   \n9      Andrew Cooper                      1     0.616325   \n\n               c.predicted_fraud_probability  \n0  [0.21922295146394294, 0.7807770485360567]  \n1   [0.2279424745167298, 0.7720575254832698]  \n2  [0.24496296704918374, 0.7550370329508158]  \n3   [0.2787500408904123, 0.7212499591095872]  \n4   [0.3454976001040924, 0.6545023998959072]  \n5   [0.3473461138586689, 0.6526538861413306]  \n6  [0.36380945414516663, 0.6361905458548329]  \n7  [0.36506315961582486, 0.6349368403841745]  \n8  [0.38345917270536806, 0.6165408272946316]  \n9   [0.38367477023318153, 0.616325229766818]  ",
      "text/html": "<div>\n<style scoped>\n    .dataframe tbody tr th:only-of-type {\n        vertical-align: middle;\n    }\n\n    .dataframe tbody tr th {\n        vertical-align: top;\n    }\n\n    .dataframe thead th {\n        text-align: right;\n    }\n</style>\n<table border=\"1\" class=\"dataframe\">\n  <thead>\n    <tr style=\"text-align: right;\">\n      <th></th>\n      <th>c.name</th>\n      <th>c.predicted_fraudster</th>\n      <th>probability</th>\n      <th>c.predicted_fraud_probability</th>\n    </tr>\n  </thead>\n  <tbody>\n    <tr>\n      <th>0</th>\n      <td>Mackenzie Monroe</td>\n      <td>1</td>\n      <td>0.780777</td>\n      <td>[0.21922295146394294, 0.7807770485360567]</td>\n    </tr>\n    <tr>\n      <th>1</th>\n      <td>Gabriella Terrell</td>\n      <td>1</td>\n      <td>0.772058</td>\n      <td>[0.2279424745167298, 0.7720575254832698]</td>\n    </tr>\n    <tr>\n      <th>2</th>\n      <td>Brooklyn Peters</td>\n      <td>1</td>\n      <td>0.755037</td>\n      <td>[0.24496296704918374, 0.7550370329508158]</td>\n    </tr>\n    <tr>\n      <th>3</th>\n      <td>Matthew Goodman</td>\n      <td>1</td>\n      <td>0.721250</td>\n      <td>[0.2787500408904123, 0.7212499591095872]</td>\n    </tr>\n    <tr>\n      <th>4</th>\n      <td>Brayden Wise</td>\n      <td>1</td>\n      <td>0.654502</td>\n      <td>[0.3454976001040924, 0.6545023998959072]</td>\n    </tr>\n    <tr>\n      <th>5</th>\n      <td>Blake Phelps</td>\n      <td>1</td>\n      <td>0.652654</td>\n      <td>[0.3473461138586689, 0.6526538861413306]</td>\n    </tr>\n    <tr>\n      <th>6</th>\n      <td>Alexander Stevens</td>\n      <td>1</td>\n      <td>0.636191</td>\n      <td>[0.36380945414516663, 0.6361905458548329]</td>\n    </tr>\n    <tr>\n      <th>7</th>\n      <td>Jackson Chapman</td>\n      <td>1</td>\n      <td>0.634937</td>\n      <td>[0.36506315961582486, 0.6349368403841745]</td>\n    </tr>\n    <tr>\n      <th>8</th>\n      <td>Caleb Calhoun</td>\n      <td>1</td>\n      <td>0.616541</td>\n      <td>[0.38345917270536806, 0.6165408272946316]</td>\n    </tr>\n    <tr>\n      <th>9</th>\n      <td>Andrew Cooper</td>\n      <td>1</td>\n      <td>0.616325</td>\n      <td>[0.38367477023318153, 0.616325229766818]</td>\n    </tr>\n  </tbody>\n</table>\n</div>"
     },
     "metadata": {}
    }
   ],
   "source": [
    "# What have we predicted (suspect)\n",
    "with driver.session(database = DB_NAME) as session:\n",
    "    result = session.write_transaction( lambda tx: \n",
    "        tx.run(\n",
    "            \"\"\"\n",
    "            match (c:Client) where c.predicted_fraudster = $classLabel\n",
    "            return c.name, c.predicted_fraudster, \n",
    "            apoc.coll.max(c.predicted_fraud_probability) as probability, c.predicted_fraud_probability\n",
    "            order by probability desc limit 10\n",
    "            \"\"\",\n",
    "            classLabel=1\n",
    "        ).data()\n",
    "    )\n",
    "    df = pd.DataFrame(result)\n",
    "    display(df)"
   ]
  },
  {
   "cell_type": "code",
   "execution_count": 54,
   "metadata": {},
   "outputs": [
    {
     "output_type": "display_data",
     "data": {
      "text/plain": "             c.name  c.predicted_fraudster  probability  \\\n0      Blake Mccray                      0     0.998404   \n1      Evelyn Craig                      0     0.998274   \n2       Nolan Duffy                      0     0.998057   \n3    Ellie Crawford                      0     0.996013   \n4    Grayson Cortez                      0     0.995172   \n5   Joseph Petersen                      0     0.994958   \n6      London Sharp                      0     0.994910   \n7       London Goff                      0     0.994731   \n8       Brody Cantu                      0     0.994623   \n9  Sarah Washington                      0     0.994573   \n\n                 c.predicted_fraud_probability  \n0  [0.9984042310735006, 0.0015957689264993879]  \n1  [0.9982739398667455, 0.0017260601332545825]  \n2  [0.9980569887825489, 0.0019430112174511854]  \n3   [0.9960130324758275, 0.003986967524172403]  \n4   [0.9951718634613683, 0.004828136538631593]  \n5   [0.9949576664969266, 0.005042333503073187]  \n6   [0.9949104948274898, 0.005089505172510007]  \n7   [0.9947310219251202, 0.005268978074879621]  \n8   [0.9946229539407881, 0.005377046059211647]  \n9  [0.9945733409931352, 0.0054266590068646455]  ",
      "text/html": "<div>\n<style scoped>\n    .dataframe tbody tr th:only-of-type {\n        vertical-align: middle;\n    }\n\n    .dataframe tbody tr th {\n        vertical-align: top;\n    }\n\n    .dataframe thead th {\n        text-align: right;\n    }\n</style>\n<table border=\"1\" class=\"dataframe\">\n  <thead>\n    <tr style=\"text-align: right;\">\n      <th></th>\n      <th>c.name</th>\n      <th>c.predicted_fraudster</th>\n      <th>probability</th>\n      <th>c.predicted_fraud_probability</th>\n    </tr>\n  </thead>\n  <tbody>\n    <tr>\n      <th>0</th>\n      <td>Blake Mccray</td>\n      <td>0</td>\n      <td>0.998404</td>\n      <td>[0.9984042310735006, 0.0015957689264993879]</td>\n    </tr>\n    <tr>\n      <th>1</th>\n      <td>Evelyn Craig</td>\n      <td>0</td>\n      <td>0.998274</td>\n      <td>[0.9982739398667455, 0.0017260601332545825]</td>\n    </tr>\n    <tr>\n      <th>2</th>\n      <td>Nolan Duffy</td>\n      <td>0</td>\n      <td>0.998057</td>\n      <td>[0.9980569887825489, 0.0019430112174511854]</td>\n    </tr>\n    <tr>\n      <th>3</th>\n      <td>Ellie Crawford</td>\n      <td>0</td>\n      <td>0.996013</td>\n      <td>[0.9960130324758275, 0.003986967524172403]</td>\n    </tr>\n    <tr>\n      <th>4</th>\n      <td>Grayson Cortez</td>\n      <td>0</td>\n      <td>0.995172</td>\n      <td>[0.9951718634613683, 0.004828136538631593]</td>\n    </tr>\n    <tr>\n      <th>5</th>\n      <td>Joseph Petersen</td>\n      <td>0</td>\n      <td>0.994958</td>\n      <td>[0.9949576664969266, 0.005042333503073187]</td>\n    </tr>\n    <tr>\n      <th>6</th>\n      <td>London Sharp</td>\n      <td>0</td>\n      <td>0.994910</td>\n      <td>[0.9949104948274898, 0.005089505172510007]</td>\n    </tr>\n    <tr>\n      <th>7</th>\n      <td>London Goff</td>\n      <td>0</td>\n      <td>0.994731</td>\n      <td>[0.9947310219251202, 0.005268978074879621]</td>\n    </tr>\n    <tr>\n      <th>8</th>\n      <td>Brody Cantu</td>\n      <td>0</td>\n      <td>0.994623</td>\n      <td>[0.9946229539407881, 0.005377046059211647]</td>\n    </tr>\n    <tr>\n      <th>9</th>\n      <td>Sarah Washington</td>\n      <td>0</td>\n      <td>0.994573</td>\n      <td>[0.9945733409931352, 0.0054266590068646455]</td>\n    </tr>\n  </tbody>\n</table>\n</div>"
     },
     "metadata": {}
    }
   ],
   "source": [
    "# What have we predicted\n",
    "with driver.session(database = DB_NAME) as session:\n",
    "    result = session.write_transaction( lambda tx: \n",
    "        tx.run(\n",
    "            \"\"\"\n",
    "            match (c:Client) where c.predicted_fraudster = $classLabel\n",
    "            return c.name, c.predicted_fraudster, \n",
    "            apoc.coll.max(c.predicted_fraud_probability) as probability, c.predicted_fraud_probability\n",
    "            order by probability desc limit 10\n",
    "            \"\"\",\n",
    "            classLabel=0\n",
    "        ).data()\n",
    "    )\n",
    "    df = pd.DataFrame(result)\n",
    "    display(df)"
   ]
  },
  {
   "cell_type": "code",
   "execution_count": 55,
   "metadata": {},
   "outputs": [],
   "source": [
    "# Clean up gds graph and model catalogue \n",
    "with driver.session(database = DB_NAME) as session:\n",
    "    try:\n",
    "        session.read_transaction(lambda tx: \n",
    "            tx.run(\"CALL gds.beta.model.drop('fraud-model')\").consume()\n",
    "        )\n",
    "    except:\n",
    "        print()\n",
    "    try:\n",
    "        session.read_transaction(lambda tx: \n",
    "            tx.run(\"CALL gds.graph.drop('client_graph')\").consume()\n",
    "        )\n",
    "    except:\n",
    "        print()\n",
    "    try: \n",
    "        session.read_transaction(lambda tx: \n",
    "            tx.run(\"CALL gds.graph.drop('fraud_graph')\").consume()\n",
    "        )\n",
    "    except:\n",
    "        print()\n",
    "    try:\n",
    "        session.read_transaction(lambda tx: \n",
    "            tx.run(\"CALL gds.graph.drop('predict_graph')\").consume()  \n",
    "        )\n",
    "    except:\n",
    "        print()"
   ]
  },
  {
   "cell_type": "code",
   "execution_count": 56,
   "metadata": {},
   "outputs": [],
   "source": [
    "# Clean up temporary labels and properties\n",
    "with driver.session(database = DB_NAME) as session:\n",
    "    result = session.write_transaction(lambda tx: \n",
    "        tx.run(\"MATCH (c:model_data) remove c:model_data\").consume()\n",
    "    )\n",
    "    result = session.write_transaction(lambda tx: \n",
    "        tx.run(\"MATCH (c:predict_data) remove c:predict_data\").consume()\n",
    "    )\n",
    "    result = session.write_transaction(lambda tx: \n",
    "        tx.run(\n",
    "        \"\"\"\n",
    "        MATCH (c:Client) \n",
    "        remove  c.predicted_fraudster, \n",
    "                c.predicted_fraud_probability,\n",
    "                c.embedding,\n",
    "                c.is_fraudster,\n",
    "                c:model_data,\n",
    "                c:predict_data\n",
    "        \"\"\").consume()\n",
    "    )"
   ]
  },
  {
   "cell_type": "code",
   "execution_count": null,
   "metadata": {},
   "outputs": [],
   "source": []
  }
 ],
 "metadata": {
  "kernelspec": {
   "name": "python373jvsc74a57bd0e8569910ce29b4d88138ffd002aec04575bea4f60de15b420fc13304ee94ad9b",
   "display_name": "Python 3.7.3 64-bit ('venv': venv)"
  },
  "language_info": {
   "codemirror_mode": {
    "name": "ipython",
    "version": 3
   },
   "file_extension": ".py",
   "mimetype": "text/x-python",
   "name": "python",
   "nbconvert_exporter": "python",
   "pygments_lexer": "ipython3",
   "version": "3.7.3"
  }
 },
 "nbformat": 4,
 "nbformat_minor": 4
}